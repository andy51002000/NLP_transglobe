{
 "cells": [
  {
   "cell_type": "code",
   "execution_count": 132,
   "metadata": {},
   "outputs": [],
   "source": [
    "#https://gist.github.com/mbednarski/c24c683fa7d4f2148fc5fdfc51246b91\n",
    "import torch\n",
    "from torch.optim import SGD\n",
    "from torch.autograd import Variable, profiler\n",
    "import numpy as np\n",
    "import torch.functional as F\n",
    "import torch.nn.functional as F"
   ]
  },
  {
   "cell_type": "code",
   "execution_count": 155,
   "metadata": {},
   "outputs": [],
   "source": [
    "#corpus = [\n",
    "#    '他 是 國王',\n",
    "#    '她 是 女王',\n",
    "#    '他 是 人',\n",
    "#    '她 是 女人',\n",
    "#]\n",
    "corpus = [\n",
    "    'he is a king',\n",
    "    'she is a queen',\n",
    "    'he is a man',\n",
    "    'she is a woman',\n",
    "]"
   ]
  },
  {
   "cell_type": "code",
   "execution_count": 156,
   "metadata": {},
   "outputs": [],
   "source": [
    "# build vocabulary\n",
    "words = []\n",
    "for sentence in corpus:\n",
    "    for word in sentence.split():\n",
    "         if word not in words:\n",
    "            words.append(word)\n",
    "        \n",
    "word2idx = {w:idx for (idx, w) in enumerate(words)}\n",
    "idx2word = {idx:w for (idx, w) in enumerate(words)}\n",
    "\n",
    "vocabulary_size = len(word2idx)"
   ]
  },
  {
   "cell_type": "code",
   "execution_count": 157,
   "metadata": {},
   "outputs": [
    {
     "data": {
      "text/plain": [
       "['he', 'is', 'a', 'king', 'she', 'queen', 'man', 'woman']"
      ]
     },
     "execution_count": 157,
     "metadata": {},
     "output_type": "execute_result"
    }
   ],
   "source": [
    "words"
   ]
  },
  {
   "cell_type": "code",
   "execution_count": 158,
   "metadata": {},
   "outputs": [
    {
     "data": {
      "text/plain": [
       "{'he': 0,\n",
       " 'is': 1,\n",
       " 'a': 2,\n",
       " 'king': 3,\n",
       " 'she': 4,\n",
       " 'queen': 5,\n",
       " 'man': 6,\n",
       " 'woman': 7}"
      ]
     },
     "execution_count": 158,
     "metadata": {},
     "output_type": "execute_result"
    }
   ],
   "source": [
    "word2idx"
   ]
  },
  {
   "cell_type": "code",
   "execution_count": 159,
   "metadata": {},
   "outputs": [
    {
     "data": {
      "text/plain": [
       "{0: 'he',\n",
       " 1: 'is',\n",
       " 2: 'a',\n",
       " 3: 'king',\n",
       " 4: 'she',\n",
       " 5: 'queen',\n",
       " 6: 'man',\n",
       " 7: 'woman'}"
      ]
     },
     "execution_count": 159,
     "metadata": {},
     "output_type": "execute_result"
    }
   ],
   "source": [
    "idx2word"
   ]
  },
  {
   "cell_type": "code",
   "execution_count": 160,
   "metadata": {},
   "outputs": [],
   "source": [
    "def get_word_embedding(word):\n",
    "    word_vec_one_hot = np.zeros(vocabulary_size)\n",
    "    word_vec_one_hot[word2idx[word]] = 1\n",
    "    return word_vec_one_hot"
   ]
  },
  {
   "cell_type": "code",
   "execution_count": null,
   "metadata": {},
   "outputs": [],
   "source": []
  },
  {
   "cell_type": "code",
   "execution_count": 161,
   "metadata": {},
   "outputs": [],
   "source": [
    "embedding_dims = 10\n",
    "window_size = 2"
   ]
  },
  {
   "cell_type": "code",
   "execution_count": 162,
   "metadata": {},
   "outputs": [],
   "source": [
    "def train_generator():\n",
    "    for sentence in corpus:\n",
    "        words = sentence.split()\n",
    "        indices = [word2idx[w] for w in words]\n",
    "        for i in range(len(indices)):\n",
    "            # center word, context\n",
    "            # i is center word index\n",
    "            # Skip-gram\n",
    "            for w in range(-window_size, window_size + 1):\n",
    "                context_idx = i + w\n",
    "                if context_idx < 0 or context_idx >= len(indices) or i == context_idx:\n",
    "                    continue\n",
    "                #get_word_embedding\n",
    "                center_vec_one_hot = np.zeros(vocabulary_size)\n",
    "                center_vec_one_hot[indices[i]] = 1\n",
    "                #print (center_vec_one_hot)\n",
    "                \n",
    "                context_idx = indices[context_idx]\n",
    "                yield center_vec_one_hot, context_idx"
   ]
  },
  {
   "cell_type": "code",
   "execution_count": 163,
   "metadata": {},
   "outputs": [
    {
     "name": "stdout",
     "output_type": "stream",
     "text": [
      "5.289853310585022\n",
      "1.4701762944459915\n",
      "1.4314293324947358\n",
      "1.4268371552228927\n",
      "1.424345961213112\n",
      "1.4224891871213914\n",
      "1.4209176003932953\n",
      "1.4195100754499435\n",
      "1.418214702606201\n",
      "1.4170058161020278\n",
      "1.4158688277006148\n",
      "1.4147945374250412\n",
      "1.4137765288352966\n",
      "1.412809932231903\n",
      "1.4118908941745758\n",
      "1.411015945672989\n",
      "1.4101823538541793\n",
      "1.4093872547149657\n",
      "1.4086283236742019\n",
      "1.4079034984111787\n"
     ]
    }
   ],
   "source": [
    "# Network definition\n",
    "W1 = Variable(torch.randn(embedding_dims, vocabulary_size).float(), requires_grad=True)\n",
    "W2 = Variable(torch.randn(vocabulary_size, embedding_dims).float(), requires_grad=True)\n",
    "\n",
    "\n",
    "for epo in range(1000):\n",
    "    avg_loss = 0\n",
    "    samples = 0\n",
    "    for data, target in train_generator():\n",
    "        x = Variable(torch.from_numpy(data)).float()\n",
    "        y_true = Variable(torch.from_numpy(np.array([target])).long())\n",
    "        samples += len(y_true)\n",
    "        \n",
    "        a1 = torch.matmul(W1, x)\n",
    "        a2 = torch.matmul(W2, a1)\n",
    "\n",
    "        log_softmax = F.log_softmax(a2, dim=0)\n",
    "\n",
    "        network_pred_dist = F.softmax(log_softmax, dim=0)\n",
    "        loss = F.nll_loss(log_softmax.view(1,-1), y_true)\n",
    "        avg_loss += loss.item()\n",
    "        loss.backward()\n",
    "        #學習速率\n",
    "        W1.data -= 0.01 * W1.grad.data\n",
    "        W2.data -= 0.01 * W2.grad.data\n",
    "\n",
    "        W1.grad.data.zero_()\n",
    "        W2.grad.data.zero_()\n",
    "        \n",
    "    if epo % 50 == 0:\n",
    "        print(avg_loss / samples)"
   ]
  },
  {
   "cell_type": "code",
   "execution_count": 176,
   "metadata": {},
   "outputs": [
    {
     "data": {
      "text/plain": [
       "tensor([[ 0.5257,  0.2596,  0.1361,  0.0739,  0.6341, -0.8436,  0.4066, -0.7261,\n",
       "          0.3830, -0.7269],\n",
       "        [ 0.4310, -1.1679,  1.7933, -0.1156, -1.8036,  0.1729,  1.7555,  0.0885,\n",
       "         -0.3222,  2.0131],\n",
       "        [ 1.5198, -0.8258,  1.2343,  1.0623, -0.3577,  0.2151, -0.3089,  0.8005,\n",
       "         -1.7971,  2.1426],\n",
       "        [-0.5439, -0.9600,  0.0525,  1.2637, -0.3665, -0.7842,  0.1353, -0.4194,\n",
       "         -0.6636, -0.0514],\n",
       "        [ 0.1146,  1.8355,  0.2471, -0.6834,  1.2891, -0.8550, -0.0447,  1.2180,\n",
       "         -1.7130, -0.3679],\n",
       "        [ 0.1389, -0.1497, -1.0238,  0.7871, -0.4360,  0.7965,  0.0736, -1.1654,\n",
       "          1.4173,  0.5165],\n",
       "        [ 0.3160, -0.1712, -0.3858,  0.6200,  0.6054, -0.0755,  0.4947,  0.4427,\n",
       "          0.9851,  0.3829],\n",
       "        [ 0.6324,  0.3515, -0.0709, -0.7891,  0.0497,  0.6087, -0.1766,  0.7769,\n",
       "         -0.6288,  0.1688]], requires_grad=True)"
      ]
     },
     "execution_count": 176,
     "metadata": {},
     "output_type": "execute_result"
    }
   ],
   "source": [
    "W2"
   ]
  },
  {
   "cell_type": "code",
   "execution_count": 166,
   "metadata": {},
   "outputs": [],
   "source": [
    "%matplotlib inline\n",
    "from scikitplot.decomposition import plot_pca_2d_projection\n",
    "from sklearn.decomposition import PCA"
   ]
  },
  {
   "cell_type": "code",
   "execution_count": 178,
   "metadata": {},
   "outputs": [
    {
     "data": {
      "image/png": "[encoded data removed]",
      "text/plain": [
       "<Figure size 864x864 with 1 Axes>"
      ]
     },
     "metadata": {},
     "output_type": "display_data"
    }
   ],
   "source": [
    "pca = PCA(n_components=2)\n",
    "pca.fit(W1.data.numpy().T)\n",
    "proj = pca.transform(W1.data.numpy().T)\n",
    "ax = plot_pca_2d_projection(pca, W1.data.numpy().T, np.array(words), feature_labels=words, figsize=(12,12), text_fontsize=12) \n",
    "#ax.legend(None)\n",
    "for i, txt in enumerate(words):\n",
    "    ax.annotate(txt, (proj[i,0], proj[i,1]), size=16)"
   ]
  },
  {
   "cell_type": "code",
   "execution_count": 171,
   "metadata": {},
   "outputs": [
    {
     "data": {
      "text/plain": [
       "tensor([[ 1.7620,  0.8666, -1.0354, -0.9067,  0.8850,  0.3915,  1.0279,  1.6976],\n",
       "        [-1.8416,  0.0356,  0.6015, -2.0840,  1.5113, -0.0644,  0.3148,  0.0306],\n",
       "        [ 0.9608, -0.2544,  0.5860,  2.2998,  0.5259,  2.9280, -0.3056,  0.4061],\n",
       "        [-0.1829,  0.1579, -0.6038, -0.5701,  0.7641,  1.1870,  1.0767, -0.0745],\n",
       "        [-0.5013,  0.2737, -0.7808,  0.6524, -1.4696, -0.3382, -1.0826,  0.0457],\n",
       "        [ 0.3698, -0.9928, -0.3445,  1.2673,  0.3717,  0.3220, -1.4021, -0.4758],\n",
       "        [-0.1816, -1.9853,  0.2727,  0.0325,  0.4362, -0.0631,  0.9037,  1.6224],\n",
       "        [-0.0343, -0.0761,  0.2448,  0.7022, -0.0004,  0.9289,  0.2689,  0.2568],\n",
       "        [ 0.1494,  0.2377,  0.7335, -1.5329, -0.4698,  0.3020, -0.2835, -0.9405],\n",
       "        [ 0.9927,  0.2027, -0.4448,  0.6140,  2.5387,  0.3623,  2.4285,  2.2050]],\n",
       "       requires_grad=True)"
      ]
     },
     "execution_count": 171,
     "metadata": {},
     "output_type": "execute_result"
    }
   ],
   "source": [
    "W1"
   ]
  },
  {
   "cell_type": "code",
   "execution_count": 169,
   "metadata": {},
   "outputs": [
    {
     "data": {
      "text/plain": [
       "tensor([[ 0.5257,  0.2596,  0.1361,  0.0739,  0.6341, -0.8436,  0.4066, -0.7261,\n",
       "          0.3830, -0.7269],\n",
       "        [ 0.4310, -1.1679,  1.7933, -0.1156, -1.8036,  0.1729,  1.7555,  0.0885,\n",
       "         -0.3222,  2.0131],\n",
       "        [ 1.5198, -0.8258,  1.2343,  1.0623, -0.3577,  0.2151, -0.3089,  0.8005,\n",
       "         -1.7971,  2.1426],\n",
       "        [-0.5439, -0.9600,  0.0525,  1.2637, -0.3665, -0.7842,  0.1353, -0.4194,\n",
       "         -0.6636, -0.0514],\n",
       "        [ 0.1146,  1.8355,  0.2471, -0.6834,  1.2891, -0.8550, -0.0447,  1.2180,\n",
       "         -1.7130, -0.3679],\n",
       "        [ 0.1389, -0.1497, -1.0238,  0.7871, -0.4360,  0.7965,  0.0736, -1.1654,\n",
       "          1.4173,  0.5165],\n",
       "        [ 0.3160, -0.1712, -0.3858,  0.6200,  0.6054, -0.0755,  0.4947,  0.4427,\n",
       "          0.9851,  0.3829],\n",
       "        [ 0.6324,  0.3515, -0.0709, -0.7891,  0.0497,  0.6087, -0.1766,  0.7769,\n",
       "         -0.6288,  0.1688]], requires_grad=True)"
      ]
     },
     "execution_count": 169,
     "metadata": {},
     "output_type": "execute_result"
    }
   ],
   "source": []
  },
  {
   "cell_type": "code",
   "execution_count": 62,
   "metadata": {},
   "outputs": [],
   "source": [
    "def get_word_vector_v(word):\n",
    "    return W1[:, word2idx[word]].data.numpy()\n",
    "\n",
    "def get_word_vector_u(word):\n",
    "    return W2[word2idx[word],:].data.numpy()"
   ]
  },
  {
   "cell_type": "code",
   "execution_count": 16,
   "metadata": {},
   "outputs": [
    {
     "ename": "KeyError",
     "evalue": "'poland'",
     "output_type": "error",
     "traceback": [
      "\u001b[0;31m---------------------------------------------------------------------------\u001b[0m",
      "\u001b[0;31mKeyError\u001b[0m                                  Traceback (most recent call last)",
      "\u001b[0;32m<ipython-input-16-1b535ac9c0b3>\u001b[0m in \u001b[0;36m<module>\u001b[0;34m()\u001b[0m\n\u001b[0;32m----> 1\u001b[0;31m \u001b[0mpol\u001b[0m \u001b[0;34m=\u001b[0m \u001b[0;36m1\u001b[0m \u001b[0;34m*\u001b[0m \u001b[0mget_word_vector_v\u001b[0m\u001b[0;34m(\u001b[0m\u001b[0;34m'poland'\u001b[0m\u001b[0;34m)\u001b[0m \u001b[0;34m+\u001b[0m \u001b[0;36m1\u001b[0m \u001b[0;34m*\u001b[0m \u001b[0mget_word_vector_u\u001b[0m\u001b[0;34m(\u001b[0m\u001b[0;34m'poland'\u001b[0m\u001b[0;34m)\u001b[0m\u001b[0;34m\u001b[0m\u001b[0m\n\u001b[0m\u001b[1;32m      2\u001b[0m \u001b[0mger\u001b[0m \u001b[0;34m=\u001b[0m \u001b[0;36m1\u001b[0m \u001b[0;34m*\u001b[0m \u001b[0mget_word_vector_v\u001b[0m\u001b[0;34m(\u001b[0m\u001b[0;34m'germany'\u001b[0m\u001b[0;34m)\u001b[0m \u001b[0;34m+\u001b[0m \u001b[0;36m1\u001b[0m \u001b[0;34m*\u001b[0m \u001b[0mget_word_vector_u\u001b[0m\u001b[0;34m(\u001b[0m\u001b[0;34m'germany'\u001b[0m\u001b[0;34m)\u001b[0m\u001b[0;34m\u001b[0m\u001b[0m\n\u001b[1;32m      3\u001b[0m \u001b[0mwaw\u001b[0m \u001b[0;34m=\u001b[0m \u001b[0;36m1\u001b[0m \u001b[0;34m*\u001b[0m \u001b[0mget_word_vector_v\u001b[0m\u001b[0;34m(\u001b[0m\u001b[0;34m'warsaw'\u001b[0m\u001b[0;34m)\u001b[0m \u001b[0;34m+\u001b[0m \u001b[0;36m1\u001b[0m \u001b[0;34m*\u001b[0m \u001b[0mget_word_vector_u\u001b[0m\u001b[0;34m(\u001b[0m\u001b[0;34m'warsaw'\u001b[0m\u001b[0;34m)\u001b[0m\u001b[0;34m\u001b[0m\u001b[0m\n\u001b[1;32m      4\u001b[0m \u001b[0;34m\u001b[0m\u001b[0m\n\u001b[1;32m      5\u001b[0m \u001b[0myyy\u001b[0m \u001b[0;34m=\u001b[0m \u001b[0mwaw\u001b[0m \u001b[0;34m-\u001b[0m \u001b[0mpol\u001b[0m \u001b[0;34m+\u001b[0m \u001b[0mger\u001b[0m\u001b[0;34m\u001b[0m\u001b[0m\n",
      "\u001b[0;32m<ipython-input-15-0d0bbf17744f>\u001b[0m in \u001b[0;36mget_word_vector_v\u001b[0;34m(word)\u001b[0m\n\u001b[1;32m      1\u001b[0m \u001b[0;32mdef\u001b[0m \u001b[0mget_word_vector_v\u001b[0m\u001b[0;34m(\u001b[0m\u001b[0mword\u001b[0m\u001b[0;34m)\u001b[0m\u001b[0;34m:\u001b[0m\u001b[0;34m\u001b[0m\u001b[0m\n\u001b[0;32m----> 2\u001b[0;31m     \u001b[0;32mreturn\u001b[0m \u001b[0mW1\u001b[0m\u001b[0;34m[\u001b[0m\u001b[0;34m:\u001b[0m\u001b[0;34m,\u001b[0m \u001b[0mword2idx\u001b[0m\u001b[0;34m[\u001b[0m\u001b[0mword\u001b[0m\u001b[0;34m]\u001b[0m\u001b[0;34m]\u001b[0m\u001b[0;34m.\u001b[0m\u001b[0mdata\u001b[0m\u001b[0;34m.\u001b[0m\u001b[0mnumpy\u001b[0m\u001b[0;34m(\u001b[0m\u001b[0;34m)\u001b[0m\u001b[0;34m\u001b[0m\u001b[0m\n\u001b[0m\u001b[1;32m      3\u001b[0m \u001b[0;34m\u001b[0m\u001b[0m\n\u001b[1;32m      4\u001b[0m \u001b[0;32mdef\u001b[0m \u001b[0mget_word_vector_u\u001b[0m\u001b[0;34m(\u001b[0m\u001b[0mword\u001b[0m\u001b[0;34m)\u001b[0m\u001b[0;34m:\u001b[0m\u001b[0;34m\u001b[0m\u001b[0m\n\u001b[1;32m      5\u001b[0m     \u001b[0;32mreturn\u001b[0m \u001b[0mW2\u001b[0m\u001b[0;34m[\u001b[0m\u001b[0mword2idx\u001b[0m\u001b[0;34m[\u001b[0m\u001b[0mword\u001b[0m\u001b[0;34m]\u001b[0m\u001b[0;34m,\u001b[0m\u001b[0;34m:\u001b[0m\u001b[0;34m]\u001b[0m\u001b[0;34m.\u001b[0m\u001b[0mdata\u001b[0m\u001b[0;34m.\u001b[0m\u001b[0mnumpy\u001b[0m\u001b[0;34m(\u001b[0m\u001b[0;34m)\u001b[0m\u001b[0;34m\u001b[0m\u001b[0m\n",
      "\u001b[0;31mKeyError\u001b[0m: 'poland'"
     ]
    }
   ],
   "source": [
    "pol = 1 * get_word_vector_v('poland') + 1 * get_word_vector_u('poland')\n",
    "ger = 1 * get_word_vector_v('germany') + 1 * get_word_vector_u('germany') \n",
    "waw = 1 * get_word_vector_v('warsaw') + 1 * get_word_vector_u('warsaw') \n",
    "\n",
    "yyy = waw - pol + ger"
   ]
  },
  {
   "cell_type": "code",
   "execution_count": 17,
   "metadata": {},
   "outputs": [
    {
     "ename": "NameError",
     "evalue": "name 'yyy' is not defined",
     "output_type": "error",
     "traceback": [
      "\u001b[0;31m---------------------------------------------------------------------------\u001b[0m",
      "\u001b[0;31mNameError\u001b[0m                                 Traceback (most recent call last)",
      "\u001b[0;32m<ipython-input-17-66350d3fdb0e>\u001b[0m in \u001b[0;36m<module>\u001b[0;34m()\u001b[0m\n\u001b[1;32m      1\u001b[0m \u001b[0;32mfrom\u001b[0m \u001b[0mscipy\u001b[0m\u001b[0;34m.\u001b[0m\u001b[0mspatial\u001b[0m\u001b[0;34m.\u001b[0m\u001b[0mdistance\u001b[0m \u001b[0;32mimport\u001b[0m \u001b[0mcosine\u001b[0m\u001b[0;34m\u001b[0m\u001b[0m\n\u001b[0;32m----> 2\u001b[0;31m \u001b[0mdistances\u001b[0m \u001b[0;34m=\u001b[0m \u001b[0;34m[\u001b[0m\u001b[0;34m(\u001b[0m\u001b[0mv\u001b[0m\u001b[0;34m,\u001b[0m \u001b[0mcosine\u001b[0m\u001b[0;34m(\u001b[0m\u001b[0myyy\u001b[0m\u001b[0;34m,\u001b[0m \u001b[0;36m1\u001b[0m \u001b[0;34m*\u001b[0m \u001b[0mget_word_vector_u\u001b[0m\u001b[0;34m(\u001b[0m\u001b[0mv\u001b[0m\u001b[0;34m)\u001b[0m \u001b[0;34m+\u001b[0m \u001b[0;36m1\u001b[0m \u001b[0;34m*\u001b[0m \u001b[0mget_word_vector_v\u001b[0m\u001b[0;34m(\u001b[0m\u001b[0mv\u001b[0m\u001b[0;34m)\u001b[0m\u001b[0;34m)\u001b[0m\u001b[0;34m)\u001b[0m \u001b[0;32mfor\u001b[0m \u001b[0mv\u001b[0m \u001b[0;32min\u001b[0m \u001b[0mwords\u001b[0m\u001b[0;34m]\u001b[0m\u001b[0;34m\u001b[0m\u001b[0m\n\u001b[0m",
      "\u001b[0;32m<ipython-input-17-66350d3fdb0e>\u001b[0m in \u001b[0;36m<listcomp>\u001b[0;34m(.0)\u001b[0m\n\u001b[1;32m      1\u001b[0m \u001b[0;32mfrom\u001b[0m \u001b[0mscipy\u001b[0m\u001b[0;34m.\u001b[0m\u001b[0mspatial\u001b[0m\u001b[0;34m.\u001b[0m\u001b[0mdistance\u001b[0m \u001b[0;32mimport\u001b[0m \u001b[0mcosine\u001b[0m\u001b[0;34m\u001b[0m\u001b[0m\n\u001b[0;32m----> 2\u001b[0;31m \u001b[0mdistances\u001b[0m \u001b[0;34m=\u001b[0m \u001b[0;34m[\u001b[0m\u001b[0;34m(\u001b[0m\u001b[0mv\u001b[0m\u001b[0;34m,\u001b[0m \u001b[0mcosine\u001b[0m\u001b[0;34m(\u001b[0m\u001b[0myyy\u001b[0m\u001b[0;34m,\u001b[0m \u001b[0;36m1\u001b[0m \u001b[0;34m*\u001b[0m \u001b[0mget_word_vector_u\u001b[0m\u001b[0;34m(\u001b[0m\u001b[0mv\u001b[0m\u001b[0;34m)\u001b[0m \u001b[0;34m+\u001b[0m \u001b[0;36m1\u001b[0m \u001b[0;34m*\u001b[0m \u001b[0mget_word_vector_v\u001b[0m\u001b[0;34m(\u001b[0m\u001b[0mv\u001b[0m\u001b[0;34m)\u001b[0m\u001b[0;34m)\u001b[0m\u001b[0;34m)\u001b[0m \u001b[0;32mfor\u001b[0m \u001b[0mv\u001b[0m \u001b[0;32min\u001b[0m \u001b[0mwords\u001b[0m\u001b[0;34m]\u001b[0m\u001b[0;34m\u001b[0m\u001b[0m\n\u001b[0m",
      "\u001b[0;31mNameError\u001b[0m: name 'yyy' is not defined"
     ]
    }
   ],
   "source": [
    "from scipy.spatial.distance import cosine\n",
    "distances = [(v, cosine(yyy, 1 * get_word_vector_u(v) + 1 * get_word_vector_v(v))) for v in words]"
   ]
  },
  {
   "cell_type": "code",
   "execution_count": 18,
   "metadata": {},
   "outputs": [],
   "source": [
    "# Poland to Warsaw is like Germany to Berlin"
   ]
  },
  {
   "cell_type": "code",
   "execution_count": 19,
   "metadata": {},
   "outputs": [
    {
     "ename": "NameError",
     "evalue": "name 'distances' is not defined",
     "output_type": "error",
     "traceback": [
      "\u001b[0;31m---------------------------------------------------------------------------\u001b[0m",
      "\u001b[0;31mNameError\u001b[0m                                 Traceback (most recent call last)",
      "\u001b[0;32m<ipython-input-19-a11e939ba179>\u001b[0m in \u001b[0;36m<module>\u001b[0;34m()\u001b[0m\n\u001b[0;32m----> 1\u001b[0;31m \u001b[0mdistances\u001b[0m\u001b[0;34m\u001b[0m\u001b[0m\n\u001b[0m",
      "\u001b[0;31mNameError\u001b[0m: name 'distances' is not defined"
     ]
    }
   ],
   "source": [
    "distances"
   ]
  },
  {
   "cell_type": "code",
   "execution_count": null,
   "metadata": {},
   "outputs": [],
   "source": [
    "# In what context Paris appears?"
   ]
  },
  {
   "cell_type": "code",
   "execution_count": null,
   "metadata": {},
   "outputs": [],
   "source": [
    "context_to_predict = get_word_vector_v('paris')\n",
    "hidden = Variable(torch.from_numpy(context_to_predict)).float()\n",
    "a = torch.matmul(W2, hidden)\n",
    "probs = F.softmax(a, dim=0).data.numpy()\n",
    "for context, prob in zip(words, probs):\n",
    "    print(f'{context}: {prob:.2f}')"
   ]
  },
  {
   "cell_type": "code",
   "execution_count": null,
   "metadata": {},
   "outputs": [],
   "source": []
  },
  {
   "cell_type": "code",
   "execution_count": null,
   "metadata": {},
   "outputs": [],
   "source": []
  }
 ],
 "metadata": {
  "kernelspec": {
   "display_name": "Python 3",
   "language": "python",
   "name": "python3"
  },
  "language_info": {
   "codemirror_mode": {
    "name": "ipython",
    "version": 3
   },
   "file_extension": ".py",
   "mimetype": "text/x-python",
   "name": "python",
   "nbconvert_exporter": "python",
   "pygments_lexer": "ipython3",
   "version": "3.6.5"
  }
 },
 "nbformat": 4,
 "nbformat_minor": 2
}
