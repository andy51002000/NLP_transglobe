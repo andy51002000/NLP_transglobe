{
 "cells": [
  {
   "cell_type": "code",
   "execution_count": 1,
   "metadata": {},
   "outputs": [],
   "source": [
    "import torch\n",
    "from torch.autograd import Variable\n",
    "import numpy as np\n",
    "import pylab as pl #繪圖\n",
    "import torch.nn.init as init"
   ]
  },
  {
   "cell_type": "code",
   "execution_count": 2,
   "metadata": {},
   "outputs": [],
   "source": [
    "dtype = torch.FloatTensor\n",
    "input_size = 7\n",
    "hidden_size = 6\n",
    "output_size = 1\n",
    "epochs = 300\n",
    "seq_length = 20 #輸入長度，RNN的序列，這數字來自於data要放入的長度\n",
    "lr = 0.1 #學習率"
   ]
  },
  {
   "cell_type": "code",
   "execution_count": 3,
   "metadata": {},
   "outputs": [],
   "source": [
    "data_time_steps = np.linspace(2, 10, seq_length + 1) #指定區間產生平均的數值，產生2~10共21個，畫圖區間使用"
   ]
  },
  {
   "cell_type": "code",
   "execution_count": 4,
   "metadata": {},
   "outputs": [],
   "source": [
    "data = np.sin(data_time_steps) #轉sin"
   ]
  },
  {
   "cell_type": "code",
   "execution_count": 5,
   "metadata": {},
   "outputs": [],
   "source": [
    "data.resize((seq_length + 1, 1))#調整成1行,21"
   ]
  },
  {
   "cell_type": "code",
   "execution_count": 6,
   "metadata": {},
   "outputs": [],
   "source": [
    "x = Variable(torch.Tensor(data[:-1]).type(dtype), requires_grad=False)\n",
    "y = Variable(torch.Tensor(data[1:]).type(dtype), requires_grad=False)"
   ]
  },
  {
   "cell_type": "code",
   "execution_count": 7,
   "metadata": {},
   "outputs": [],
   "source": [
    "#初始化\n",
    "w1 = torch.FloatTensor(input_size, hidden_size).type(dtype)\n",
    "init.normal_(w1, 0.0, 0.4) # init.normal 舊版  mean=0.0, std=0.4 (低離散程度)\n",
    "w1 =  Variable(w1, requires_grad=True) #requires_grad=True 需要反向傳播\n",
    "w2 = torch.FloatTensor(hidden_size, output_size).type(dtype)\n",
    "init.normal_(w2, 0.0, 0.4) # init.normal 舊版 mean=0.0, std=0.3 (低離散程度)\n",
    "w2 = Variable(w2, requires_grad=True) #requires_grad=True 需要反向傳播\n",
    "# w1作為輸入，w2最為輸出"
   ]
  },
  {
   "cell_type": "code",
   "execution_count": 12,
   "metadata": {},
   "outputs": [],
   "source": [
    "def forward(input, context_state, w1, w2):\n",
    "  xh = torch.cat((input, context_state), 1) #將input與context_state做連接，並成為列(Row)呈現\n",
    "  context_state = torch.tanh(xh.mm(w1)) #先對w1作內積，相近的數值就接近，再轉換tanh收斂到-1~1\n",
    "  out = context_state.mm(w2) #再對w2做內積作為輸出\n",
    "  return  (out, context_state) #回傳context_state與out"
   ]
  },
  {
   "cell_type": "code",
   "execution_count": 9,
   "metadata": {},
   "outputs": [
    {
     "name": "stdout",
     "output_type": "stream",
     "text": [
      "Epoch: 0 loss 1.8753083944320679\n",
      "tensor([[-0.5223],\n",
      "        [-0.1365],\n",
      "        [-0.2162],\n",
      "        [ 0.5551],\n",
      "        [ 0.1533],\n",
      "        [ 0.1663]], requires_grad=True)\n",
      "Epoch: 100 loss 0.024895846843719482\n",
      "tensor([[-0.7826],\n",
      "        [-0.2360],\n",
      "        [-0.6279],\n",
      "        [ 0.7865],\n",
      "        [ 0.3332],\n",
      "        [ 0.2112]], requires_grad=True)\n",
      "Epoch: 200 loss 0.009914116002619267\n",
      "tensor([[-0.8377],\n",
      "        [-0.2937],\n",
      "        [-0.7162],\n",
      "        [ 0.8402],\n",
      "        [ 0.3092],\n",
      "        [ 0.2119]], requires_grad=True)\n"
     ]
    }
   ],
   "source": [
    "for i in range(epochs):\n",
    "  total_loss = 0\n",
    "  #裝RNN的資料context_state\n",
    "  context_state = Variable(torch.zeros((1, hidden_size)).type(dtype), requires_grad=True)\n",
    "    #起始為0  0  0  0  0  0 因為hidden_size設定為6\n",
    "  for j in range(x.size(0)): #x.size(0)確保是正確數字\n",
    "    input = x[j:(j+1)] #依序將0.9093、0.6755取出\n",
    "    target = y[j:(j+1)] #依序將0.6755、0.3350、-0.0584、-0.4425取出\n",
    "    (pred, context_state) = forward(input, context_state, w1, w2)\n",
    "    #實際-預測 計算Loss MSE\n",
    "    loss = (pred - target).pow(2).sum()/2\n",
    "    total_loss += loss\n",
    "    loss.backward()\n",
    "    #加上學習速率，加得越大數值跳越快，權重重新產生\n",
    "    w1.data -= lr * w1.grad.data \n",
    "    w2.data -= lr * w2.grad.data\n",
    "    w1.grad.data.zero_()\n",
    "    w2.grad.data.zero_()\n",
    "    context_state = Variable(context_state.data)\n",
    "  if i % 100 == 0: #取餘數，讓他變成10次顯示一次\n",
    "     print(\"Epoch: {} loss {}\".format(i, total_loss.item()))\n",
    "     print(w2)"
   ]
  },
  {
   "cell_type": "code",
   "execution_count": 10,
   "metadata": {},
   "outputs": [],
   "source": [
    "context_state = Variable(torch.zeros((1, hidden_size)).type(dtype), requires_grad=False)\n",
    "predictions = []\n",
    "\n",
    "for i in range(x.size(0)):\n",
    "  input = x[i:i+1]\n",
    "  (pred, context_state) = forward(input, context_state, w1, w2) #w1,w2是由上面帶下來的數值\n",
    "  context_state = context_state\n",
    "  predictions.append(pred.data.numpy().ravel()) #透過data.numpy將pred轉numpy,透過數據ravel整理一下\n",
    "  #print(\"predictions==========\", predictions)"
   ]
  },
  {
   "cell_type": "code",
   "execution_count": 11,
   "metadata": {},
   "outputs": [
    {
     "data": {
      "image/png": "[encoded data removed]",
      "text/plain": [
       "<Figure size 432x288 with 1 Axes>"
      ]
     },
     "metadata": {},
     "output_type": "display_data"
    }
   ],
   "source": [
    "#data_time_steps為x軸,x.data.numpy為Y軸\n",
    "pl.scatter(data_time_steps[:-1], x.data.numpy(), s=90, label=\"Actual\") # s= 圈圈大小\n",
    "pl.scatter(data_time_steps[1:], predictions, label=\"Predicted\")\n",
    "pl.legend()\n",
    "pl.show()"
   ]
  },
  {
   "cell_type": "code",
   "execution_count": null,
   "metadata": {},
   "outputs": [],
   "source": [
    "def forward(input, context_state, w1, w2):\n",
    "  xh = torch.cat((input, context_state), 1) \n",
    "  context_state = torch.tanh(xh.mm(w1)) \n",
    "  out = context_state.mm(w2) \n",
    "  return  (out, context_state) "
   ]
  }
 ],
 "metadata": {
  "kernelspec": {
   "display_name": "Python 3",
   "language": "python",
   "name": "python3"
  },
  "language_info": {
   "codemirror_mode": {
    "name": "ipython",
    "version": 3
   },
   "file_extension": ".py",
   "mimetype": "text/x-python",
   "name": "python",
   "nbconvert_exporter": "python",
   "pygments_lexer": "ipython3",
   "version": "3.6.5"
  }
 },
 "nbformat": 4,
 "nbformat_minor": 2
}
