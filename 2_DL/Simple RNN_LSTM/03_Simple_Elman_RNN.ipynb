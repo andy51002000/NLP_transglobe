{
 "cells": [
  {
   "cell_type": "code",
   "execution_count": 1,
   "metadata": {},
   "outputs": [],
   "source": [
    "import torch\n",
    "from torch.autograd import Variable\n",
    "import numpy as np\n",
    "import pylab as pl #繪圖\n",
    "import torch.nn.init as init"
   ]
  },
  {
   "cell_type": "markdown",
   "metadata": {},
   "source": [
    "接下來，我們將設置模型超參數，輸入層的大小設置為7，這意味著我們將有6個上下文神經元和1個輸入神經元，seq_length定義我們的輸入和目標序列的長度。"
   ]
  },
  {
   "cell_type": "code",
   "execution_count": 2,
   "metadata": {},
   "outputs": [],
   "source": [
    "dtype = torch.FloatTensor\n",
    "input_size = 7\n",
    "hidden_size = 6\n",
    "output_size = 1\n",
    "epochs = 300\n",
    "seq_length = 20 #輸入長度，RNN的序列，這數字來自於data要放入的長度\n",
    "lr = 0.1 #學習率"
   ]
  },
  {
   "cell_type": "code",
   "execution_count": 3,
   "metadata": {},
   "outputs": [],
   "source": [
    "data_time_steps = np.linspace(2, 10, seq_length + 1) #指定區間產生平均的數值，產生2~10共21個，畫圖區間使用"
   ]
  },
  {
   "cell_type": "code",
   "execution_count": 4,
   "metadata": {},
   "outputs": [
    {
     "data": {
      "text/plain": [
       "array([ 2. ,  2.4,  2.8,  3.2,  3.6,  4. ,  4.4,  4.8,  5.2,  5.6,  6. ,\n",
       "        6.4,  6.8,  7.2,  7.6,  8. ,  8.4,  8.8,  9.2,  9.6, 10. ])"
      ]
     },
     "execution_count": 4,
     "metadata": {},
     "output_type": "execute_result"
    }
   ],
   "source": [
    "data_time_steps"
   ]
  },
  {
   "cell_type": "code",
   "execution_count": 5,
   "metadata": {},
   "outputs": [],
   "source": [
    "data = np.sin(data_time_steps) #轉sin"
   ]
  },
  {
   "cell_type": "code",
   "execution_count": 6,
   "metadata": {},
   "outputs": [
    {
     "data": {
      "text/plain": [
       "array([ 0.90929743,  0.67546318,  0.33498815, -0.05837414, -0.44252044,\n",
       "       -0.7568025 , -0.95160207, -0.99616461, -0.88345466, -0.63126664,\n",
       "       -0.2794155 ,  0.1165492 ,  0.49411335,  0.79366786,  0.96791967,\n",
       "        0.98935825,  0.85459891,  0.58491719,  0.22288991, -0.17432678,\n",
       "       -0.54402111])"
      ]
     },
     "execution_count": 6,
     "metadata": {},
     "output_type": "execute_result"
    }
   ],
   "source": [
    "data"
   ]
  },
  {
   "cell_type": "code",
   "execution_count": 7,
   "metadata": {},
   "outputs": [],
   "source": [
    "data.resize((seq_length + 1, 1))#調整成1行,21"
   ]
  },
  {
   "cell_type": "code",
   "execution_count": 8,
   "metadata": {},
   "outputs": [
    {
     "data": {
      "text/plain": [
       "array([[ 0.90929743],\n",
       "       [ 0.67546318],\n",
       "       [ 0.33498815],\n",
       "       [-0.05837414],\n",
       "       [-0.44252044],\n",
       "       [-0.7568025 ],\n",
       "       [-0.95160207],\n",
       "       [-0.99616461],\n",
       "       [-0.88345466],\n",
       "       [-0.63126664],\n",
       "       [-0.2794155 ],\n",
       "       [ 0.1165492 ],\n",
       "       [ 0.49411335],\n",
       "       [ 0.79366786],\n",
       "       [ 0.96791967],\n",
       "       [ 0.98935825],\n",
       "       [ 0.85459891],\n",
       "       [ 0.58491719],\n",
       "       [ 0.22288991],\n",
       "       [-0.17432678],\n",
       "       [-0.54402111]])"
      ]
     },
     "execution_count": 8,
     "metadata": {},
     "output_type": "execute_result"
    }
   ],
   "source": [
    "data"
   ]
  },
  {
   "cell_type": "markdown",
   "metadata": {},
   "source": [
    "現在我們將建立訓練數據，其中x是輸入序列，y是目標序列。"
   ]
  },
  {
   "cell_type": "code",
   "execution_count": 9,
   "metadata": {},
   "outputs": [],
   "source": [
    "x = Variable(torch.Tensor(data[:-1]).type(dtype), requires_grad=False)\n",
    "y = Variable(torch.Tensor(data[1:]).type(dtype), requires_grad=False)"
   ]
  },
  {
   "cell_type": "markdown",
   "metadata": {},
   "source": [
    "# 說明Variable強大功能"
   ]
  },
  {
   "cell_type": "code",
   "execution_count": 10,
   "metadata": {},
   "outputs": [
    {
     "name": "stdout",
     "output_type": "stream",
     "text": [
      "tensor([[1., 2.],\n",
      "        [3., 4.]])\n"
     ]
    }
   ],
   "source": [
    "import torch\n",
    "from torch.autograd import Variable # torch 中 Variable 模块\n",
    "\n",
    "# 先生鸡蛋\n",
    "tensor = torch.FloatTensor([[1,2],[3,4]])\n",
    "# 把鸡蛋放到篮子里, requires_grad是参不参与误差反向传播, 要不要计算梯度\n",
    "variable = Variable(tensor, requires_grad=True)\n",
    "\n",
    "print(tensor)"
   ]
  },
  {
   "cell_type": "code",
   "execution_count": 11,
   "metadata": {},
   "outputs": [
    {
     "name": "stdout",
     "output_type": "stream",
     "text": [
      "tensor([[1., 2.],\n",
      "        [3., 4.]], requires_grad=True)\n"
     ]
    }
   ],
   "source": [
    "print(variable)"
   ]
  },
  {
   "cell_type": "code",
   "execution_count": 12,
   "metadata": {},
   "outputs": [
    {
     "name": "stdout",
     "output_type": "stream",
     "text": [
      "tensor(7.5000)\n",
      "tensor(7.5000, grad_fn=<MeanBackward1>)\n"
     ]
    }
   ],
   "source": [
    "t_out = torch.mean(tensor*tensor)       # x^2\n",
    "v_out = torch.mean(variable*variable)   # x^2\n",
    "print(t_out)\n",
    "print(v_out)    # 7.5\n"
   ]
  },
  {
   "cell_type": "markdown",
   "metadata": {},
   "source": [
    "Variable計算時搭配computational graph，將所有反向傳播的結點連接起來，方便一次把梯度都計算出來"
   ]
  },
  {
   "cell_type": "code",
   "execution_count": 13,
   "metadata": {},
   "outputs": [],
   "source": [
    "v_out.backward() \n",
    "#d(v_out)/d(variable) = 1/4*2*variable = variable/2\n",
    "#Tensor也可以計算，但是無法作backward"
   ]
  },
  {
   "cell_type": "code",
   "execution_count": 14,
   "metadata": {},
   "outputs": [
    {
     "name": "stdout",
     "output_type": "stream",
     "text": [
      "tensor([[0.5000, 1.0000],\n",
      "        [1.5000, 2.0000]])\n"
     ]
    }
   ],
   "source": [
    "print(variable.grad)"
   ]
  },
  {
   "cell_type": "code",
   "execution_count": 15,
   "metadata": {},
   "outputs": [
    {
     "name": "stdout",
     "output_type": "stream",
     "text": [
      "tensor([[1., 2.],\n",
      "        [3., 4.]], requires_grad=True)\n",
      "tensor([[1., 2.],\n",
      "        [3., 4.]])\n",
      "[[1. 2.]\n",
      " [3. 4.]]\n"
     ]
    }
   ],
   "source": [
    "#各種variable形式\n",
    "print(variable)  # Variable 形式\n",
    "print(variable.data)  # data 形式\n",
    "print(variable.data.numpy()) # numpy 形式"
   ]
  },
  {
   "cell_type": "markdown",
   "metadata": {},
   "source": [
    "# 說明Variable強大功能(結束)"
   ]
  },
  {
   "cell_type": "code",
   "execution_count": 16,
   "metadata": {},
   "outputs": [
    {
     "data": {
      "text/plain": [
       "array([[ 0.90929743],\n",
       "       [ 0.67546318],\n",
       "       [ 0.33498815],\n",
       "       [-0.05837414],\n",
       "       [-0.44252044],\n",
       "       [-0.7568025 ],\n",
       "       [-0.95160207],\n",
       "       [-0.99616461],\n",
       "       [-0.88345466],\n",
       "       [-0.63126664],\n",
       "       [-0.2794155 ],\n",
       "       [ 0.1165492 ],\n",
       "       [ 0.49411335],\n",
       "       [ 0.79366786],\n",
       "       [ 0.96791967],\n",
       "       [ 0.98935825],\n",
       "       [ 0.85459891],\n",
       "       [ 0.58491719],\n",
       "       [ 0.22288991],\n",
       "       [-0.17432678],\n",
       "       [-0.54402111]])"
      ]
     },
     "execution_count": 16,
     "metadata": {},
     "output_type": "execute_result"
    }
   ],
   "source": [
    "data"
   ]
  },
  {
   "cell_type": "markdown",
   "metadata": {},
   "source": [
    "\n",
    "我們需要創建兩個權重矩陣，w1的大小（input_size，hidden_​​size）用於輸入到隱藏連接，而w2矩陣的大小（hidden_​​size，output_size）用於隱藏到輸出連接。使用具有零均值的正態分佈初始化權重。"
   ]
  },
  {
   "cell_type": "code",
   "execution_count": 17,
   "metadata": {},
   "outputs": [],
   "source": [
    "#初始化\n",
    "w1 = torch.FloatTensor(input_size, hidden_size).type(dtype)\n",
    "init.normal_(w1, 0.0, 0.4) # init.normal 舊版  mean=0.0, std=0.4 (低離散程度)\n",
    "w1 =  Variable(w1, requires_grad=True) #requires_grad=True 需要反向傳播\n",
    "w2 = torch.FloatTensor(hidden_size, output_size).type(dtype)\n",
    "init.normal_(w2, 0.0, 0.4) # init.normal 舊版 mean=0.0, std=0.3 (低離散程度)\n",
    "w2 = Variable(w2, requires_grad=True) #requires_grad=True 需要反向傳播\n",
    "# w1作為輸入，w2最為輸出"
   ]
  },
  {
   "cell_type": "code",
   "execution_count": 18,
   "metadata": {},
   "outputs": [
    {
     "data": {
      "text/plain": [
       "tensor([[-0.5965],\n",
       "        [-0.2055],\n",
       "        [-0.2924],\n",
       "        [-0.1614],\n",
       "        [-0.0427],\n",
       "        [ 0.0236]], requires_grad=True)"
      ]
     },
     "execution_count": 18,
     "metadata": {},
     "output_type": "execute_result"
    }
   ],
   "source": [
    "w2"
   ]
  },
  {
   "cell_type": "markdown",
   "metadata": {},
   "source": [
    "我們現在可以定義forward方法，它將輸入向量，context_state為Autograd的結果，整合兩個權重矩陣作為參數。我們將通過將輸入向量與context_state向量連接來創建向量xh。我們在xh向量和權重矩陣w1之間執行點積，然後將tanh函數應用為非線性，這對於RNN而言比sigmoid更好。然後我們在新的context_state和權重矩陣w2之間執行另一個點積。我們想要預測連續值，所以我們在這個階段不應用任何非線性。\n",
    "\n",
    "請注意，context_state將用於在下一個時間步驟填充上下文神經元。這就是我們返回context_state向量以及網絡輸出的原因。\n"
   ]
  },
  {
   "cell_type": "code",
   "execution_count": 19,
   "metadata": {},
   "outputs": [],
   "source": [
    "#context_state\n",
    "#Variable(torch.zeros((1, hidden_size)).type(dtype), requires_grad=True)"
   ]
  },
  {
   "cell_type": "code",
   "execution_count": 20,
   "metadata": {},
   "outputs": [],
   "source": [
    "def forward(input, context_state, w1, w2):\n",
    "  xh = torch.cat((input, context_state), 1) #將input與context_state做連接，並成為列(Row)呈現\n",
    "  context_state = torch.tanh(xh.mm(w1)) #先對w1作內積，相近的數值就接近，再轉換tanh收斂到-1~1\n",
    "  out = context_state.mm(w2) #再對w2做內積作為輸出\n",
    "  return  (out, context_state) #回傳context_state與out"
   ]
  },
  {
   "cell_type": "markdown",
   "metadata": {},
   "source": [
    "# torch.cat 快速說明"
   ]
  },
  {
   "cell_type": "code",
   "execution_count": 21,
   "metadata": {},
   "outputs": [
    {
     "data": {
      "text/plain": [
       "tensor([[-0.6497,  0.2220, -0.1584,  0.0877,  0.1764, -1.7362],\n",
       "        [-0.1475,  2.0566, -0.1578,  0.6652,  0.3990,  1.2273],\n",
       "        [-1.4531,  1.5406,  0.2388,  1.0145,  1.7663, -0.5078],\n",
       "        [-0.9400, -0.7034,  0.1799, -1.6558,  1.1217, -1.5902]])"
      ]
     },
     "execution_count": 21,
     "metadata": {},
     "output_type": "execute_result"
    }
   ],
   "source": [
    "x_t = torch.randn(4, 6)\n",
    "x_t"
   ]
  },
  {
   "cell_type": "code",
   "execution_count": 22,
   "metadata": {},
   "outputs": [
    {
     "data": {
      "text/plain": [
       "tensor([[-0.6497,  0.2220, -0.1584,  0.0877,  0.1764, -1.7362],\n",
       "        [-0.1475,  2.0566, -0.1578,  0.6652,  0.3990,  1.2273],\n",
       "        [-1.4531,  1.5406,  0.2388,  1.0145,  1.7663, -0.5078],\n",
       "        [-0.9400, -0.7034,  0.1799, -1.6558,  1.1217, -1.5902],\n",
       "        [-0.6497,  0.2220, -0.1584,  0.0877,  0.1764, -1.7362],\n",
       "        [-0.1475,  2.0566, -0.1578,  0.6652,  0.3990,  1.2273],\n",
       "        [-1.4531,  1.5406,  0.2388,  1.0145,  1.7663, -0.5078],\n",
       "        [-0.9400, -0.7034,  0.1799, -1.6558,  1.1217, -1.5902],\n",
       "        [-0.6497,  0.2220, -0.1584,  0.0877,  0.1764, -1.7362],\n",
       "        [-0.1475,  2.0566, -0.1578,  0.6652,  0.3990,  1.2273],\n",
       "        [-1.4531,  1.5406,  0.2388,  1.0145,  1.7663, -0.5078],\n",
       "        [-0.9400, -0.7034,  0.1799, -1.6558,  1.1217, -1.5902]])"
      ]
     },
     "execution_count": 22,
     "metadata": {},
     "output_type": "execute_result"
    }
   ],
   "source": [
    "torch.cat((x_t, x_t, x_t), 0)"
   ]
  },
  {
   "cell_type": "code",
   "execution_count": 23,
   "metadata": {},
   "outputs": [
    {
     "data": {
      "text/plain": [
       "tensor([[-0.6497,  0.2220, -0.1584,  0.0877,  0.1764, -1.7362, -0.6497,  0.2220,\n",
       "         -0.1584,  0.0877,  0.1764, -1.7362, -0.6497,  0.2220, -0.1584,  0.0877,\n",
       "          0.1764, -1.7362],\n",
       "        [-0.1475,  2.0566, -0.1578,  0.6652,  0.3990,  1.2273, -0.1475,  2.0566,\n",
       "         -0.1578,  0.6652,  0.3990,  1.2273, -0.1475,  2.0566, -0.1578,  0.6652,\n",
       "          0.3990,  1.2273],\n",
       "        [-1.4531,  1.5406,  0.2388,  1.0145,  1.7663, -0.5078, -1.4531,  1.5406,\n",
       "          0.2388,  1.0145,  1.7663, -0.5078, -1.4531,  1.5406,  0.2388,  1.0145,\n",
       "          1.7663, -0.5078],\n",
       "        [-0.9400, -0.7034,  0.1799, -1.6558,  1.1217, -1.5902, -0.9400, -0.7034,\n",
       "          0.1799, -1.6558,  1.1217, -1.5902, -0.9400, -0.7034,  0.1799, -1.6558,\n",
       "          1.1217, -1.5902]])"
      ]
     },
     "execution_count": 23,
     "metadata": {},
     "output_type": "execute_result"
    }
   ],
   "source": [
    "torch.cat((x_t, x_t, x_t), 1)"
   ]
  },
  {
   "cell_type": "markdown",
   "metadata": {},
   "source": [
    "# torch.cat 快速說明結束"
   ]
  },
  {
   "cell_type": "markdown",
   "metadata": {},
   "source": [
    "我們的建立循環結構如下。\n",
    "\n",
    "在每個迭代的開始，為了確保context_state是乾淨的，我們需要用初始化我們的context_state向量。\n",
    "\n",
    "環遍歷序列的每個元素。我們前進的方法執行返回將用於下一個步驟的預測和context_state的前向傳遞。然後我們計算均方誤差（MSE），當我們想要預測連續值時，這是一個自然的選擇。通過在損失上運行backward（）方法我們計算梯度，然後我們更新權重。我們應該通過調用zero_（）方法清除每次迭代的漸變，否則將累積漸變。我們做的最後一件事是將context_state向量包裝在新的Variable中，以將其從歷史記錄中分離出來。"
   ]
  },
  {
   "cell_type": "code",
   "execution_count": 24,
   "metadata": {},
   "outputs": [
    {
     "name": "stdout",
     "output_type": "stream",
     "text": [
      "Epoch: 0 loss 1.2071304321289062\n",
      "tensor([[-0.6312],\n",
      "        [-0.3480],\n",
      "        [-0.2185],\n",
      "        [-0.1919],\n",
      "        [-0.1722],\n",
      "        [ 0.1395]], requires_grad=True)\n"
     ]
    },
    {
     "name": "stderr",
     "output_type": "stream",
     "text": [
      "/Users/jerrywu2018/anaconda3/lib/python3.6/site-packages/ipykernel_launcher.py:21: UserWarning: invalid index of a 0-dim tensor. This will be an error in PyTorch 0.5. Use tensor.item() to convert a 0-dim tensor to a Python number\n"
     ]
    },
    {
     "name": "stdout",
     "output_type": "stream",
     "text": [
      "Epoch: 100 loss 0.015333490446209908\n",
      "tensor([[-0.5041],\n",
      "        [-0.4300],\n",
      "        [ 0.1002],\n",
      "        [-0.1007],\n",
      "        [-0.5802],\n",
      "        [ 0.0794]], requires_grad=True)\n",
      "Epoch: 200 loss 0.0076925186440348625\n",
      "tensor([[-0.4728],\n",
      "        [-0.4341],\n",
      "        [ 0.1168],\n",
      "        [-0.0699],\n",
      "        [-0.6546],\n",
      "        [ 0.1180]], requires_grad=True)\n"
     ]
    }
   ],
   "source": [
    "for i in range(epochs):\n",
    "  total_loss = 0\n",
    "  #裝RNN的資料context_state\n",
    "  context_state = Variable(torch.zeros((1, hidden_size)).type(dtype), requires_grad=True)\n",
    "    #起始為0  0  0  0  0  0 因為hidden_size設定為6\n",
    "  for j in range(x.size(0)): #x.size(0)確保是正確數字\n",
    "    input = x[j:(j+1)] #依序將0.9093、0.6755取出\n",
    "    target = y[j:(j+1)] #依序將0.6755、0.3350、-0.0584、-0.4425取出\n",
    "    (pred, context_state) = forward(input, context_state, w1, w2)\n",
    "    #實際-預測 計算Loss MSE\n",
    "    loss = (pred - target).pow(2).sum()/2\n",
    "    total_loss += loss\n",
    "    loss.backward()\n",
    "    #加上學習速率，加得越大數值跳越快，權重重新產生\n",
    "    w1.data -= lr * w1.grad.data \n",
    "    w2.data -= lr * w2.grad.data\n",
    "    w1.grad.data.zero_()\n",
    "    w2.grad.data.zero_()\n",
    "    context_state = Variable(context_state.data)\n",
    "  if i % 100 == 0: #取餘數，讓他變成10次顯示一次\n",
    "     print(\"Epoch: {} loss {}\".format(i, total_loss.data[0]))\n",
    "     print(w2)"
   ]
  },
  {
   "cell_type": "code",
   "execution_count": null,
   "metadata": {},
   "outputs": [],
   "source": [
    "for i in range(epochs):\n",
    "  total_loss = 0\n",
    "  context_state = Variable(torch.zeros((1, hidden_size)).type(dtype), requires_grad=True)\n",
    "  for j in range(x.size(0)): \n",
    "    input = x[j:(j+1)] \n",
    "    target = y[j:(j+1)] \n",
    "    (pred, context_state) = forward(input, context_state, w1, w2)\n",
    "    loss = (pred - target).pow(2).sum()/2\n",
    "    total_loss += loss\n",
    "    loss.backward()\n",
    "    w1.data -= lr * w1.grad.data \n",
    "    w2.data -= lr * w2.grad.data\n",
    "    w1.grad.data.zero_()\n",
    "    w2.grad.data.zero_()\n",
    "    context_state = Variable(context_state.data)\n",
    "  if i % 100 == 0:\n",
    "     print(\"Epoch: {} loss {}\".format(i, total_loss.data[0]))"
   ]
  },
  {
   "cell_type": "markdown",
   "metadata": {},
   "source": [
    "訓練期間產生的輸出顯示每個時期的損失如何減少，這是一個好兆頭。衰退損失意味著我們的模型正在學習。"
   ]
  },
  {
   "cell_type": "markdown",
   "metadata": {},
   "source": [
    "一旦我們的模型被訓練，我們就可以進行預測，在序列的每個步驟中，我們將使用單個數據點為模型提供信息，並要求模型在下一個時間步驟預測一個值。"
   ]
  },
  {
   "cell_type": "code",
   "execution_count": 27,
   "metadata": {},
   "outputs": [],
   "source": [
    "context_state = Variable(torch.zeros((1, hidden_size)).type(dtype), requires_grad=False)\n",
    "predictions = []\n",
    "\n",
    "for i in range(x.size(0)):\n",
    "  input = x[i:i+1]\n",
    "  (pred, context_state) = forward(input, context_state, w1, w2) #w1,w2是由上面帶下來的數值\n",
    "  context_state = context_state\n",
    "  predictions.append(pred.data.numpy().ravel()) #透過data.numpy將pred轉numpy,透過數據ravel整理一下\n",
    "  #print(\"predictions==========\", predictions)"
   ]
  },
  {
   "cell_type": "code",
   "execution_count": 28,
   "metadata": {},
   "outputs": [
    {
     "data": {
      "image/png": "[encoded data removed]",
      "text/plain": [
       "<Figure size 432x288 with 1 Axes>"
      ]
     },
     "metadata": {},
     "output_type": "display_data"
    }
   ],
   "source": [
    "#data_time_steps為x軸,x.data.numpy為Y軸\n",
    "pl.scatter(data_time_steps[:-1], x.data.numpy(), s=90, label=\"Actual\") # s= 圈圈大小\n",
    "pl.scatter(data_time_steps[1:], predictions, label=\"Predicted\")\n",
    "pl.legend()\n",
    "pl.show()"
   ]
  },
  {
   "cell_type": "code",
   "execution_count": null,
   "metadata": {},
   "outputs": [],
   "source": []
  }
 ],
 "metadata": {
  "kernelspec": {
   "display_name": "Python 3",
   "language": "python",
   "name": "python3"
  },
  "language_info": {
   "codemirror_mode": {
    "name": "ipython",
    "version": 3
   },
   "file_extension": ".py",
   "mimetype": "text/x-python",
   "name": "python",
   "nbconvert_exporter": "python",
   "pygments_lexer": "ipython3",
   "version": "3.6.5"
  }
 },
 "nbformat": 4,
 "nbformat_minor": 2
}
