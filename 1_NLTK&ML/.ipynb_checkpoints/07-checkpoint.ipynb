{
 "cells": [
  {
   "cell_type": "code",
   "execution_count": 12,
   "metadata": {
    "collapsed": true
   },
   "outputs": [],
   "source": [
    "import nltk\n",
    "import matplotlib"
   ]
  },
  {
   "cell_type": "markdown",
   "metadata": {},
   "source": [
    "# 姓名分類問題"
   ]
  },
  {
   "cell_type": "code",
   "execution_count": null,
   "metadata": {
    "collapsed": true
   },
   "outputs": [],
   "source": [
    "#特徵提取"
   ]
  },
  {
   "cell_type": "code",
   "execution_count": 3,
   "metadata": {},
   "outputs": [
    {
     "data": {
      "text/plain": [
       "{'last_letter': 'k'}"
      ]
     },
     "execution_count": 3,
     "metadata": {},
     "output_type": "execute_result"
    }
   ],
   "source": [
    "def gender_features(word):\n",
    "    return {'last_letter': word[-1]}\n",
    "gender_features('Shrek')"
   ]
  },
  {
   "cell_type": "code",
   "execution_count": 4,
   "metadata": {
    "collapsed": true
   },
   "outputs": [],
   "source": [
    "#性別分類\n",
    "#以 a，e 和 i 结尾的很可 能是女性，而以 k，o，r，s 结尾的很可能是男性\n",
    "from nltk.corpus import names"
   ]
  },
  {
   "cell_type": "code",
   "execution_count": 5,
   "metadata": {
    "collapsed": true
   },
   "outputs": [],
   "source": [
    "import random"
   ]
  },
  {
   "cell_type": "code",
   "execution_count": 6,
   "metadata": {
    "collapsed": true
   },
   "outputs": [],
   "source": [
    "names = ([(name, 'male') for name in names.words('male.txt')] + [(name, 'female') for name in names.words('female.txt')])"
   ]
  },
  {
   "cell_type": "code",
   "execution_count": 7,
   "metadata": {
    "collapsed": true
   },
   "outputs": [],
   "source": [
    "random.shuffle(names)"
   ]
  },
  {
   "cell_type": "code",
   "execution_count": 8,
   "metadata": {},
   "outputs": [
    {
     "data": {
      "text/plain": [
       "[('Augusto', 'male'),\n",
       " ('Abby', 'female'),\n",
       " ('Cristin', 'female'),\n",
       " ('Guthrie', 'male'),\n",
       " ('Kent', 'male'),\n",
       " ('Darci', 'female'),\n",
       " ('Mari', 'female'),\n",
       " ('Winna', 'female'),\n",
       " ('Myra', 'female'),\n",
       " ('Caesar', 'male'),\n",
       " ('Deanne', 'female'),\n",
       " ('Cecil', 'female'),\n",
       " ('Acacia', 'female'),\n",
       " ('Ricki', 'male'),\n",
       " ('Burt', 'male'),\n",
       " ('Valeda', 'female'),\n",
       " ('Germaine', 'male'),\n",
       " ('Lonni', 'female'),\n",
       " ('Emmit', 'male'),\n",
       " ('Candice', 'female'),\n",
       " ('Anissa', 'female'),\n",
       " ('Stephine', 'female'),\n",
       " ('Reba', 'female'),\n",
       " ('Annice', 'female'),\n",
       " ('Roselyn', 'female'),\n",
       " ('Jillana', 'female'),\n",
       " ('Myles', 'male'),\n",
       " ('Bishop', 'male'),\n",
       " ('Mervin', 'male'),\n",
       " ('Harrison', 'male'),\n",
       " ('Phillida', 'female'),\n",
       " ('Melisent', 'female'),\n",
       " ('Rosabella', 'female'),\n",
       " ('Waiter', 'male'),\n",
       " ('Sandye', 'female'),\n",
       " ('Becca', 'female'),\n",
       " ('Justine', 'female'),\n",
       " ('Tanner', 'male'),\n",
       " ('Joya', 'female'),\n",
       " ('Collins', 'male'),\n",
       " ('Guthry', 'male'),\n",
       " ('Arabel', 'female'),\n",
       " ('Juliann', 'female'),\n",
       " ('Ignazio', 'male'),\n",
       " ('Janessa', 'female'),\n",
       " ('Sampson', 'male'),\n",
       " ('Frans', 'male'),\n",
       " ('Correna', 'female'),\n",
       " ('Theodosia', 'female'),\n",
       " ('Verene', 'female'),\n",
       " ('Chanderjit', 'male'),\n",
       " ('Chrystal', 'female'),\n",
       " ('Felix', 'male'),\n",
       " ('Cathlene', 'female'),\n",
       " ('Tiffanie', 'female'),\n",
       " ('Alexis', 'female'),\n",
       " ('Ernst', 'male'),\n",
       " ('Ulla', 'female'),\n",
       " ('Hilliard', 'male'),\n",
       " ('Marybelle', 'female'),\n",
       " ('Secunda', 'female'),\n",
       " ('Chloe', 'female'),\n",
       " ('Danika', 'female'),\n",
       " ('Geoffry', 'male'),\n",
       " ('Charmain', 'female'),\n",
       " ('Trace', 'female'),\n",
       " ('Adi', 'female'),\n",
       " ('Norry', 'female'),\n",
       " ('Caron', 'female'),\n",
       " ('Ash', 'male'),\n",
       " ('Levon', 'male'),\n",
       " ('Celia', 'female'),\n",
       " ('Dickie', 'male'),\n",
       " ('Zabrina', 'female'),\n",
       " ('Randa', 'female'),\n",
       " ('Paolina', 'female'),\n",
       " ('Arabella', 'female'),\n",
       " ('Gypsy', 'female'),\n",
       " ('Nisa', 'female'),\n",
       " ('Rodolphe', 'male'),\n",
       " ('Gerrie', 'female'),\n",
       " ('Gere', 'male'),\n",
       " ('Tonya', 'female'),\n",
       " ('Hassan', 'male'),\n",
       " ('Sigrid', 'female'),\n",
       " ('Cristopher', 'male'),\n",
       " ('Franklin', 'male'),\n",
       " ('Linnie', 'female'),\n",
       " ('Malissia', 'female'),\n",
       " ('Maggie', 'female'),\n",
       " ('Jonny', 'male'),\n",
       " ('Orelee', 'female'),\n",
       " ('Arlena', 'female'),\n",
       " ('Camille', 'female'),\n",
       " ('Mitchael', 'male'),\n",
       " ('Hillary', 'male'),\n",
       " ('Dieter', 'male'),\n",
       " ('Regina', 'female'),\n",
       " ('Netti', 'female'),\n",
       " ('Rory', 'female'),\n",
       " ('Blondelle', 'female'),\n",
       " ('Zora', 'female'),\n",
       " ('Elroy', 'male'),\n",
       " ('Katy', 'female'),\n",
       " ('Rodrigo', 'male'),\n",
       " ('Paulita', 'female'),\n",
       " ('Ariadne', 'female'),\n",
       " ('Maxfield', 'male'),\n",
       " ('Vania', 'female'),\n",
       " ('Townsend', 'male'),\n",
       " ('Rich', 'male'),\n",
       " ('Min', 'female'),\n",
       " ('Orren', 'male'),\n",
       " ('Leshia', 'female'),\n",
       " ('Eden', 'female'),\n",
       " ('Sparky', 'male'),\n",
       " ('Florette', 'female'),\n",
       " ('Florence', 'female'),\n",
       " ('Jae', 'male'),\n",
       " ('Lavinie', 'female'),\n",
       " ('Georgiamay', 'female'),\n",
       " ('Rutger', 'male'),\n",
       " ('Robbin', 'female'),\n",
       " ('Zea', 'female'),\n",
       " ('Anurag', 'male'),\n",
       " ('Bartholemy', 'male'),\n",
       " ('Deryl', 'male'),\n",
       " ('Cathrine', 'female'),\n",
       " ('Jaime', 'female'),\n",
       " ('Fidel', 'male'),\n",
       " ('Kory', 'male'),\n",
       " ('Berna', 'female'),\n",
       " ('Carissa', 'female'),\n",
       " ('Pinchas', 'male'),\n",
       " ('Roseann', 'female'),\n",
       " ('Herta', 'female'),\n",
       " ('Maggee', 'female'),\n",
       " ('Ozzie', 'male'),\n",
       " ('Sandy', 'female'),\n",
       " ('Keene', 'male'),\n",
       " ('Leeann', 'female'),\n",
       " ('Jimbo', 'male'),\n",
       " ('Halie', 'female'),\n",
       " ('Beulah', 'female'),\n",
       " ('Barthel', 'male'),\n",
       " ('Godfree', 'male'),\n",
       " ('Sile', 'female'),\n",
       " ('Chuck', 'male'),\n",
       " ('Timmie', 'male'),\n",
       " ('Stanleigh', 'male'),\n",
       " ('Ericha', 'female'),\n",
       " ('Jeramie', 'male'),\n",
       " ('Marcie', 'female'),\n",
       " ('Maria', 'female'),\n",
       " ('Ajay', 'male'),\n",
       " ('Abigale', 'female'),\n",
       " ('Laurice', 'female'),\n",
       " ('Chandal', 'female'),\n",
       " ('Kaiser', 'male'),\n",
       " ('Gennie', 'female'),\n",
       " ('Shalna', 'female'),\n",
       " ('Georgie', 'male'),\n",
       " ('Del', 'male'),\n",
       " ('Alex', 'female'),\n",
       " ('Cornelle', 'female'),\n",
       " ('Vinni', 'female'),\n",
       " ('Ginelle', 'female'),\n",
       " ('Ede', 'female'),\n",
       " ('Suzann', 'female'),\n",
       " ('Ronni', 'female'),\n",
       " ('Larisa', 'female'),\n",
       " ('Ephram', 'male'),\n",
       " ('Jenelle', 'female'),\n",
       " ('Arlina', 'female'),\n",
       " ('Oralla', 'female'),\n",
       " ('Duke', 'male'),\n",
       " ('Charla', 'female'),\n",
       " ('Claudette', 'female'),\n",
       " ('Hadrian', 'male'),\n",
       " ('Guido', 'male'),\n",
       " ('Rosette', 'female'),\n",
       " ('Norris', 'male'),\n",
       " ('Gerry', 'male'),\n",
       " ('Erek', 'male'),\n",
       " ('Vivienne', 'female'),\n",
       " ('Ramesh', 'male'),\n",
       " ('Kaycee', 'female'),\n",
       " ('Claudetta', 'female'),\n",
       " ('Alvera', 'female'),\n",
       " ('Katey', 'female'),\n",
       " ('Derron', 'male'),\n",
       " ('Tyler', 'male'),\n",
       " ('Janelle', 'female'),\n",
       " ('Nelsen', 'male'),\n",
       " ('Sheridan', 'male'),\n",
       " ('Tomas', 'male'),\n",
       " ('Kraig', 'male'),\n",
       " ('Ardelle', 'female'),\n",
       " ('Cassandry', 'female'),\n",
       " ('Aguinaldo', 'male'),\n",
       " ('Tyson', 'male'),\n",
       " ('Gussy', 'female'),\n",
       " ('Peyton', 'male'),\n",
       " ('Ashlee', 'female'),\n",
       " ('Britt', 'male'),\n",
       " ('Rolf', 'male'),\n",
       " ('Cybel', 'female'),\n",
       " ('Lolly', 'female'),\n",
       " ('Kizzee', 'female'),\n",
       " ('Clemmy', 'female'),\n",
       " ('Nicholas', 'male'),\n",
       " ('Tad', 'male'),\n",
       " ('Rina', 'female'),\n",
       " ('Aubrey', 'male'),\n",
       " ('Winnah', 'female'),\n",
       " ('Oralie', 'female'),\n",
       " ('Bailey', 'male'),\n",
       " ('Brendan', 'male'),\n",
       " ('Jayme', 'female'),\n",
       " ('Marty', 'female'),\n",
       " ('Clarice', 'female'),\n",
       " ('Tandi', 'female'),\n",
       " ('Whitaker', 'male'),\n",
       " ('Ethel', 'female'),\n",
       " ('Aubert', 'male'),\n",
       " ('Piotr', 'male'),\n",
       " ('Allsun', 'female'),\n",
       " ('Imogene', 'female'),\n",
       " ('La', 'female'),\n",
       " ('Charity', 'female'),\n",
       " ('Julie', 'female'),\n",
       " ('Meade', 'male'),\n",
       " ('Neda', 'female'),\n",
       " ('Sebastian', 'male'),\n",
       " ('Amandi', 'female'),\n",
       " ('Jessy', 'female'),\n",
       " ('Zorana', 'female'),\n",
       " ('Cheryl', 'female'),\n",
       " ('Gavriel', 'male'),\n",
       " ('Kalli', 'female'),\n",
       " ('Regen', 'male'),\n",
       " ('Tiphani', 'female'),\n",
       " ('Carri', 'female'),\n",
       " ('Bharat', 'male'),\n",
       " ('Nert', 'female'),\n",
       " ('Antonie', 'female'),\n",
       " ('Aina', 'female'),\n",
       " ('Odele', 'female'),\n",
       " ('Kare', 'female'),\n",
       " ('Jody', 'female'),\n",
       " ('Elka', 'female'),\n",
       " ('Britaney', 'female'),\n",
       " ('Bridgette', 'female'),\n",
       " ('Myrle', 'female'),\n",
       " ('Jorry', 'female'),\n",
       " ('Elga', 'female'),\n",
       " ('Hermine', 'female'),\n",
       " ('Issi', 'female'),\n",
       " ('Kathleen', 'female'),\n",
       " ('Kristian', 'male'),\n",
       " ('Ronalda', 'female'),\n",
       " ('Janina', 'female'),\n",
       " ('Edgardo', 'male'),\n",
       " ('Margette', 'female'),\n",
       " ('Barbee', 'female'),\n",
       " ('Vinny', 'female'),\n",
       " ('Cal', 'female'),\n",
       " ('Moyna', 'female'),\n",
       " ('Carlin', 'male'),\n",
       " ('Tamiko', 'female'),\n",
       " ('Reinhard', 'male'),\n",
       " ('Rose', 'female'),\n",
       " ('Chevy', 'male'),\n",
       " ('Daphne', 'female'),\n",
       " ('Marcio', 'male'),\n",
       " ('Ansley', 'female'),\n",
       " ('Virgilio', 'male'),\n",
       " ('Sunny', 'female'),\n",
       " ('Nils', 'male'),\n",
       " ('Elsa', 'female'),\n",
       " ('Loella', 'female'),\n",
       " ('Tuesday', 'female'),\n",
       " ('Mireielle', 'female'),\n",
       " ('Ricardo', 'male'),\n",
       " ('Therine', 'female'),\n",
       " ('Denyse', 'female'),\n",
       " ('Teddi', 'female'),\n",
       " ('Ronnica', 'female'),\n",
       " ('Lorene', 'female'),\n",
       " ('Marie', 'female'),\n",
       " ('Iris', 'female'),\n",
       " ('Angelia', 'female'),\n",
       " ('Julienne', 'female'),\n",
       " ('Erl', 'male'),\n",
       " ('Carmella', 'female'),\n",
       " ('Ruperto', 'male'),\n",
       " ('Martie', 'female'),\n",
       " ('Caralie', 'female'),\n",
       " ('Cilka', 'female'),\n",
       " ('Hartwell', 'male'),\n",
       " ('Frederica', 'female'),\n",
       " ('Roy', 'male'),\n",
       " ('Maynard', 'male'),\n",
       " ('Armando', 'male'),\n",
       " ('Walden', 'male'),\n",
       " ('Marita', 'female'),\n",
       " ('Glori', 'female'),\n",
       " ('Wolf', 'male'),\n",
       " ('Ericka', 'female'),\n",
       " ('Haskel', 'male'),\n",
       " ('Woodrow', 'male'),\n",
       " ('Aron', 'male'),\n",
       " ('Reece', 'male'),\n",
       " ('Tybalt', 'male'),\n",
       " ('Alix', 'male'),\n",
       " ('Nanette', 'female'),\n",
       " ('Siddhartha', 'male'),\n",
       " ('Timothy', 'male'),\n",
       " ('Ingelbert', 'male'),\n",
       " ('Delia', 'female'),\n",
       " ('Claire', 'female'),\n",
       " ('Richie', 'male'),\n",
       " ('Ferguson', 'male'),\n",
       " ('Weidar', 'male'),\n",
       " ('Phil', 'female'),\n",
       " ('Sallyanne', 'female'),\n",
       " ('Neall', 'male'),\n",
       " ('Bartlet', 'male'),\n",
       " ('Staci', 'female'),\n",
       " ('Janette', 'female'),\n",
       " ('Benjamin', 'male'),\n",
       " ('Esme', 'female'),\n",
       " ('Jehu', 'male'),\n",
       " ('Istvan', 'male'),\n",
       " ('Brooke', 'female'),\n",
       " ('Salomone', 'male'),\n",
       " ('Koralle', 'female'),\n",
       " ('Wilmar', 'male'),\n",
       " ('Dinny', 'female'),\n",
       " ('Laurens', 'male'),\n",
       " ('Kirsten', 'female'),\n",
       " ('Arnold', 'male'),\n",
       " ('Judie', 'female'),\n",
       " ('Charyl', 'female'),\n",
       " ('Sybil', 'female'),\n",
       " ('Herculie', 'male'),\n",
       " ('Reggie', 'male'),\n",
       " ('Merlin', 'male'),\n",
       " ('Orella', 'female'),\n",
       " ('Rabbi', 'male'),\n",
       " ('Roni', 'male'),\n",
       " ('Allissa', 'female'),\n",
       " ('Lane', 'male'),\n",
       " ('Desirae', 'female'),\n",
       " ('Rica', 'female'),\n",
       " ('Bebe', 'female'),\n",
       " ('Arvin', 'male'),\n",
       " ('Temp', 'male'),\n",
       " ('Angele', 'female'),\n",
       " ('Foster', 'male'),\n",
       " ('Miguel', 'male'),\n",
       " ('Andriana', 'female'),\n",
       " ('Quigly', 'male'),\n",
       " ('Rasia', 'female'),\n",
       " ('Adorne', 'female'),\n",
       " ('Sheilah', 'female'),\n",
       " ('Carole', 'female'),\n",
       " ('Lonna', 'female'),\n",
       " ('Lucinda', 'female'),\n",
       " ('Lonee', 'female'),\n",
       " ('Lionel', 'male'),\n",
       " ('Stoddard', 'female'),\n",
       " ('Friederike', 'female'),\n",
       " ('Sadella', 'female'),\n",
       " ('Lilian', 'female'),\n",
       " ('Cele', 'female'),\n",
       " ('Lorette', 'female'),\n",
       " ('Kimberlee', 'female'),\n",
       " ('Randy', 'male'),\n",
       " ('Clea', 'female'),\n",
       " ('Berny', 'female'),\n",
       " ('France', 'female'),\n",
       " ('Yance', 'male'),\n",
       " ('Esme', 'male'),\n",
       " ('Georgeanna', 'female'),\n",
       " ('Grady', 'male'),\n",
       " ('Claybourne', 'male'),\n",
       " ('Giavani', 'male'),\n",
       " ('Rufe', 'male'),\n",
       " ('Robina', 'female'),\n",
       " ('Laina', 'female'),\n",
       " ('Gabriello', 'male'),\n",
       " ('Natalia', 'female'),\n",
       " ('Jeremias', 'male'),\n",
       " ('Jerrylee', 'female'),\n",
       " ('Margy', 'female'),\n",
       " ('Lethia', 'female'),\n",
       " ('Fawn', 'female'),\n",
       " ('Klaus', 'male'),\n",
       " ('Kellia', 'female'),\n",
       " ('Natassia', 'female'),\n",
       " ('Paige', 'female'),\n",
       " ('Vitoria', 'female'),\n",
       " ('Dawson', 'male'),\n",
       " ('Mildred', 'female'),\n",
       " ('Fannie', 'female'),\n",
       " ('Di', 'female'),\n",
       " ('Tam', 'male'),\n",
       " ('Willa', 'female'),\n",
       " ('Melany', 'female'),\n",
       " ('Dolli', 'female'),\n",
       " ('Gwenneth', 'female'),\n",
       " ('Missie', 'female'),\n",
       " ('Hilton', 'male'),\n",
       " ('Claudelle', 'female'),\n",
       " ('Inger', 'female'),\n",
       " ('Brandy', 'male'),\n",
       " ('Hasty', 'male'),\n",
       " ('Nerta', 'female'),\n",
       " ('Bette-Ann', 'female'),\n",
       " ('Virgil', 'male'),\n",
       " ('Meris', 'female'),\n",
       " ('Sterne', 'male'),\n",
       " ('August', 'male'),\n",
       " ('Fae', 'female'),\n",
       " ('Clancy', 'male'),\n",
       " ('Rochell', 'female'),\n",
       " ('Annamari', 'female'),\n",
       " ('Mirelle', 'female'),\n",
       " ('Jourdan', 'female'),\n",
       " ('Valentia', 'female'),\n",
       " ('Warde', 'male'),\n",
       " ('Hanni', 'female'),\n",
       " ('Karoline', 'female'),\n",
       " ('Rik', 'male'),\n",
       " ('Tabbitha', 'female'),\n",
       " ('Clarie', 'female'),\n",
       " ('Guthrey', 'male'),\n",
       " ('Gaven', 'male'),\n",
       " ('Katusha', 'female'),\n",
       " ('Jerry', 'male'),\n",
       " ('Samuele', 'male'),\n",
       " ('Benito', 'male'),\n",
       " ('Sheelah', 'female'),\n",
       " ('Othello', 'male'),\n",
       " ('Syd', 'male'),\n",
       " ('Zebulen', 'male'),\n",
       " ('Isadora', 'female'),\n",
       " ('Uriah', 'male'),\n",
       " ('Darcee', 'female'),\n",
       " ('Ez', 'male'),\n",
       " ('Eadith', 'female'),\n",
       " ('Garwin', 'male'),\n",
       " ('Marti', 'female'),\n",
       " ('Giacomo', 'male'),\n",
       " ('Annie', 'female'),\n",
       " ('Korney', 'female'),\n",
       " ('Cleopatra', 'female'),\n",
       " ('Carlyn', 'female'),\n",
       " ('Baird', 'male'),\n",
       " ('Hermione', 'female'),\n",
       " ('Ann-Marie', 'female'),\n",
       " ('Brewer', 'male'),\n",
       " ('Karine', 'female'),\n",
       " ('Arlee', 'female'),\n",
       " ('Dickey', 'male'),\n",
       " ('Marion', 'male'),\n",
       " ('Xylina', 'female'),\n",
       " ('Deidre', 'female'),\n",
       " ('Toddy', 'male'),\n",
       " ('Marlyn', 'female'),\n",
       " ('Jasmine', 'female'),\n",
       " ('Tomkin', 'male'),\n",
       " ('Kayley', 'female'),\n",
       " ('Binny', 'female'),\n",
       " ('Jewelle', 'female'),\n",
       " ('Shaine', 'male'),\n",
       " ('Darb', 'female'),\n",
       " ('Raymundo', 'male'),\n",
       " ('Dmitri', 'male'),\n",
       " ('Gary', 'male'),\n",
       " ('Harrold', 'male'),\n",
       " ('Debra', 'female'),\n",
       " ('Wenona', 'female'),\n",
       " ('Marylou', 'female'),\n",
       " ('Ali', 'female'),\n",
       " ('Gianna', 'female'),\n",
       " ('Matias', 'male'),\n",
       " ('Darsey', 'female'),\n",
       " ('Vilma', 'female'),\n",
       " ('Gena', 'female'),\n",
       " ('Morley', 'male'),\n",
       " ('Nadean', 'female'),\n",
       " ('Elisabet', 'female'),\n",
       " ('Jacquenette', 'female'),\n",
       " ('Karol', 'female'),\n",
       " ('Eustacia', 'female'),\n",
       " ('Alyssa', 'female'),\n",
       " ('Teodoro', 'male'),\n",
       " ('Bellamy', 'female'),\n",
       " ('Petr', 'male'),\n",
       " ('Remington', 'male'),\n",
       " ('Clemence', 'female'),\n",
       " ('Eirena', 'female'),\n",
       " ('Camella', 'female'),\n",
       " ('Katerine', 'female'),\n",
       " ('Meg', 'female'),\n",
       " ('Cortese', 'male'),\n",
       " ('Barny', 'male'),\n",
       " ('Carmel', 'female'),\n",
       " ('Maury', 'male'),\n",
       " ('Mary', 'female'),\n",
       " ('Adella', 'female'),\n",
       " ('Rae', 'female'),\n",
       " ('Corissa', 'female'),\n",
       " ('Evelyn', 'female'),\n",
       " ('Kiah', 'female'),\n",
       " ('Ravil', 'male'),\n",
       " ('Rosemary', 'female'),\n",
       " ('Raf', 'female'),\n",
       " ('Gustavus', 'male'),\n",
       " ('Lukas', 'male'),\n",
       " ('Ardella', 'female'),\n",
       " ('Sukey', 'female'),\n",
       " ('Ulrika', 'female'),\n",
       " ('Ephrem', 'male'),\n",
       " ('Sybille', 'female'),\n",
       " ('Ruby', 'female'),\n",
       " ('Chet', 'male'),\n",
       " ('Shannon', 'female'),\n",
       " ('Ervin', 'male'),\n",
       " ('Ginnie', 'female'),\n",
       " ('Agamemnon', 'male'),\n",
       " ('Claretta', 'female'),\n",
       " ('Nannie', 'female'),\n",
       " ('Loraine', 'female'),\n",
       " ('Loleta', 'female'),\n",
       " ('Elisha', 'male'),\n",
       " ('Retha', 'female'),\n",
       " ('Gardiner', 'male'),\n",
       " ('Greggory', 'male'),\n",
       " ('Cybill', 'female'),\n",
       " ('Maxie', 'male'),\n",
       " ('Alica', 'female'),\n",
       " ('Sephira', 'female'),\n",
       " ('Jeane', 'female'),\n",
       " ('Joellen', 'female'),\n",
       " ('Manuel', 'male'),\n",
       " ('Rhiamon', 'female'),\n",
       " ('Andriette', 'female'),\n",
       " ('Kaari', 'female'),\n",
       " ('Jermaine', 'male'),\n",
       " ('Brodie', 'male'),\n",
       " ('Alessandro', 'male'),\n",
       " ('Reiko', 'female'),\n",
       " ('Julee', 'female'),\n",
       " ('Nellie', 'female'),\n",
       " ('Natalee', 'female'),\n",
       " ('Joaquin', 'male'),\n",
       " ('Gail', 'male'),\n",
       " ('Myriam', 'female'),\n",
       " ('Anette', 'female'),\n",
       " ('Matthus', 'male'),\n",
       " ('Julianna', 'female'),\n",
       " ('Janeta', 'female'),\n",
       " ('Gardner', 'male'),\n",
       " ('Parry', 'male'),\n",
       " ('Orazio', 'male'),\n",
       " ('Pierrette', 'female'),\n",
       " ('Lyndsey', 'female'),\n",
       " ('Kittie', 'female'),\n",
       " ('Lani', 'female'),\n",
       " ('Latrena', 'female'),\n",
       " ('Magnus', 'male'),\n",
       " ('Arleen', 'female'),\n",
       " ('Addie', 'male'),\n",
       " ('Myrtle', 'female'),\n",
       " ('Gwennie', 'female'),\n",
       " ('Laurie', 'female'),\n",
       " ('Immanuel', 'male'),\n",
       " ('Tandy', 'female'),\n",
       " ('Karilynn', 'female'),\n",
       " ('Clair', 'male'),\n",
       " ('Paige', 'male'),\n",
       " ('Catherin', 'female'),\n",
       " ('Dulcie', 'female'),\n",
       " ('Easter', 'female'),\n",
       " ('Karlee', 'female'),\n",
       " ('Meara', 'female'),\n",
       " ('Shawna', 'female'),\n",
       " ('Carita', 'female'),\n",
       " ('Nevins', 'male'),\n",
       " ('Norm', 'male'),\n",
       " ('Georgena', 'female'),\n",
       " ('Sybyl', 'female'),\n",
       " ('Freemon', 'male'),\n",
       " ('Adrick', 'male'),\n",
       " ('Jan', 'female'),\n",
       " ('Corny', 'female'),\n",
       " ('Bridgett', 'female'),\n",
       " ('Thedrick', 'male'),\n",
       " ('Stan', 'male'),\n",
       " ('Verile', 'female'),\n",
       " ('Evita', 'female'),\n",
       " ('Tracy', 'male'),\n",
       " ('Judah', 'male'),\n",
       " ('Shaine', 'female'),\n",
       " ('Joell', 'female'),\n",
       " ('Samara', 'female'),\n",
       " ('Kelcey', 'female'),\n",
       " ('Ardath', 'female'),\n",
       " ('Wallie', 'male'),\n",
       " ('Ardra', 'female'),\n",
       " ('Lilyan', 'female'),\n",
       " ('Atlante', 'female'),\n",
       " ('Garvin', 'male'),\n",
       " ('Nickey', 'male'),\n",
       " ('Tiebold', 'male'),\n",
       " ('Oliy', 'female'),\n",
       " ('Rahal', 'female'),\n",
       " ('Florri', 'female'),\n",
       " ('Joli', 'female'),\n",
       " ('Benedetta', 'female'),\n",
       " ('Pembroke', 'male'),\n",
       " ('Madelon', 'female'),\n",
       " ('Luigi', 'male'),\n",
       " ('Anallise', 'female'),\n",
       " ('Vanni', 'female'),\n",
       " ('Brunella', 'female'),\n",
       " ('Dore', 'female'),\n",
       " ('See', 'male'),\n",
       " ('Margret', 'female'),\n",
       " ('Rachel', 'female'),\n",
       " ('Munmro', 'male'),\n",
       " ('Everard', 'male'),\n",
       " ('Gisela', 'female'),\n",
       " ('Sissie', 'female'),\n",
       " ('Aleck', 'male'),\n",
       " ('Sebastien', 'male'),\n",
       " ('Winny', 'female'),\n",
       " ('Ralina', 'female'),\n",
       " ('Olga', 'female'),\n",
       " ('Raquel', 'female'),\n",
       " ('Marci', 'female'),\n",
       " ('Karlotta', 'female'),\n",
       " ('Yvette', 'female'),\n",
       " ('Melodie', 'female'),\n",
       " ('Skell', 'male'),\n",
       " ('Bethena', 'female'),\n",
       " ('Philipa', 'female'),\n",
       " ('Rollo', 'male'),\n",
       " ('Marylynne', 'female'),\n",
       " ('Vivyan', 'female'),\n",
       " ('Roice', 'male'),\n",
       " ('Nicolle', 'female'),\n",
       " ('Cathy', 'female'),\n",
       " ('Evvie', 'female'),\n",
       " ('Aleecia', 'female'),\n",
       " ('Dalia', 'female'),\n",
       " ('Rowena', 'female'),\n",
       " ('Wynny', 'female'),\n",
       " ('Laurene', 'female'),\n",
       " ('Florida', 'female'),\n",
       " ('Reagan', 'male'),\n",
       " ('Hope', 'female'),\n",
       " ('Rickie', 'male'),\n",
       " ('Winonah', 'female'),\n",
       " ('Romona', 'female'),\n",
       " ('Yanaton', 'male'),\n",
       " ('Eddy', 'female'),\n",
       " ('Reilly', 'male'),\n",
       " ('Vivianna', 'female'),\n",
       " ('Averell', 'male'),\n",
       " ('Audrye', 'female'),\n",
       " ('Stefano', 'male'),\n",
       " ('Nahum', 'male'),\n",
       " ('Oliver', 'male'),\n",
       " ('Deloria', 'female'),\n",
       " ('Fulton', 'male'),\n",
       " ('Kerrill', 'female'),\n",
       " ('Fayre', 'female'),\n",
       " ('Jerrie', 'female'),\n",
       " ('Trip', 'male'),\n",
       " ('Orsa', 'female'),\n",
       " ('Cassandra', 'female'),\n",
       " ('Cyrillus', 'male'),\n",
       " ('Anthia', 'female'),\n",
       " ('Talbot', 'male'),\n",
       " ('Rhetta', 'female'),\n",
       " ('Michaela', 'female'),\n",
       " ('Jude', 'male'),\n",
       " ('Judson', 'male'),\n",
       " ('Annadiana', 'female'),\n",
       " ('Nicol', 'female'),\n",
       " ('Cheri', 'female'),\n",
       " ('Spenser', 'male'),\n",
       " ('Berget', 'female'),\n",
       " ('Fons', 'male'),\n",
       " ('Bailie', 'male'),\n",
       " ('Berkie', 'male'),\n",
       " ('Natty', 'female'),\n",
       " ('Dannie', 'female'),\n",
       " ('Tiff', 'female'),\n",
       " ('Bartholomeus', 'male'),\n",
       " ('Janka', 'female'),\n",
       " ('Mike', 'male'),\n",
       " ('Sinead', 'female'),\n",
       " ('Tito', 'male'),\n",
       " ('Josy', 'female'),\n",
       " ('Peter', 'male'),\n",
       " ('Essy', 'female'),\n",
       " ('Melisande', 'female'),\n",
       " ('Boniface', 'male'),\n",
       " ('Aretha', 'female'),\n",
       " ('Aldo', 'male'),\n",
       " ('Wilma', 'female'),\n",
       " ('Jerrine', 'female'),\n",
       " ('Enrika', 'female'),\n",
       " ('Sibel', 'female'),\n",
       " ('Kendre', 'female'),\n",
       " ('Daisie', 'female'),\n",
       " ('Sayers', 'male'),\n",
       " ('Sanders', 'male'),\n",
       " ('Benjie', 'male'),\n",
       " ('Dorey', 'female'),\n",
       " ('Mable', 'female'),\n",
       " ('Sabine', 'female'),\n",
       " ('Nike', 'female'),\n",
       " ('Margarete', 'female'),\n",
       " ('Stirling', 'male'),\n",
       " ('Ainsley', 'female'),\n",
       " ('Sayer', 'male'),\n",
       " ('Dianna', 'female'),\n",
       " ('Bogart', 'male'),\n",
       " ('Harlin', 'male'),\n",
       " ('Issy', 'female'),\n",
       " ('Genia', 'female'),\n",
       " ('Shayla', 'female'),\n",
       " ('Charisse', 'female'),\n",
       " ('Merna', 'female'),\n",
       " ('Alexis', 'male'),\n",
       " ('Colette', 'female'),\n",
       " ('Nikkie', 'female'),\n",
       " ('Astra', 'female'),\n",
       " ('Leigh', 'female'),\n",
       " ('Regine', 'female'),\n",
       " ('Walther', 'male'),\n",
       " ('Hakeem', 'male'),\n",
       " ('Praneetf', 'male'),\n",
       " ('Shepard', 'male'),\n",
       " ('Selina', 'female'),\n",
       " ('Herschel', 'male'),\n",
       " ('Charmine', 'female'),\n",
       " ('Hewe', 'male'),\n",
       " ('Gerri', 'female'),\n",
       " ('Melania', 'female'),\n",
       " ('Valaree', 'female'),\n",
       " ('Angy', 'female'),\n",
       " ('Cinnamon', 'female'),\n",
       " ('Jess', 'female'),\n",
       " ('Joelynn', 'female'),\n",
       " ('Mariana', 'female'),\n",
       " ('Remus', 'male'),\n",
       " ('Goose', 'male'),\n",
       " ('Brynn', 'female'),\n",
       " ('Roobbie', 'female'),\n",
       " ('Valentina', 'female'),\n",
       " ('Livia', 'female'),\n",
       " ('Ebba', 'female'),\n",
       " ('Vicky', 'female'),\n",
       " ('Blake', 'male'),\n",
       " ('Mitchel', 'male'),\n",
       " ('Stepha', 'female'),\n",
       " ('Alexina', 'female'),\n",
       " ('Marinna', 'female'),\n",
       " ('Rena', 'female'),\n",
       " ('Terrel', 'male'),\n",
       " ('Sarah', 'female'),\n",
       " ('Zack', 'male'),\n",
       " ('Eleanora', 'female'),\n",
       " ('Elfie', 'female'),\n",
       " ('Dodi', 'female'),\n",
       " ('Elliott', 'male'),\n",
       " ('Tillie', 'female'),\n",
       " ('Pepita', 'female'),\n",
       " ('Moishe', 'male'),\n",
       " ('Cleva', 'female'),\n",
       " ('Daffy', 'female'),\n",
       " ('Elmore', 'male'),\n",
       " ('Giselle', 'female'),\n",
       " ('Aldric', 'male'),\n",
       " ('Nadia', 'female'),\n",
       " ('Jan', 'male'),\n",
       " ('Gershom', 'male'),\n",
       " ('Lewis', 'male'),\n",
       " ('Reese', 'male'),\n",
       " ('Florinda', 'female'),\n",
       " ('Nathan', 'male'),\n",
       " ('Cabrina', 'female'),\n",
       " ('Saxon', 'male'),\n",
       " ('Hoyt', 'male'),\n",
       " ('Augusta', 'female'),\n",
       " ('Spencer', 'male'),\n",
       " ('Catlee', 'female'),\n",
       " ('Albert', 'male'),\n",
       " ('Jude', 'female'),\n",
       " ('Aida', 'female'),\n",
       " ('Danyette', 'female'),\n",
       " ('Britta', 'female'),\n",
       " ('Vita', 'female'),\n",
       " ('Velvet', 'female'),\n",
       " ('Christan', 'female'),\n",
       " ('Meggan', 'female'),\n",
       " ('Emera', 'female'),\n",
       " ('Danila', 'female'),\n",
       " ('Cecelia', 'female'),\n",
       " ('Arly', 'female'),\n",
       " ('Ann', 'female'),\n",
       " ('Renae', 'female'),\n",
       " ('Legra', 'female'),\n",
       " ('Quinlan', 'male'),\n",
       " ('Rozanna', 'female'),\n",
       " ('Mahmud', 'male'),\n",
       " ('Olaf', 'male'),\n",
       " ('Dorice', 'female'),\n",
       " ('Kari', 'female'),\n",
       " ('Winn', 'male'),\n",
       " ('Amery', 'male'),\n",
       " ('Marline', 'female'),\n",
       " ('Celle', 'female'),\n",
       " ('Sullivan', 'male'),\n",
       " ('Adore', 'female'),\n",
       " ('Merilee', 'female'),\n",
       " ('Francois', 'male'),\n",
       " ('Tuckie', 'male'),\n",
       " ('Teresita', 'female'),\n",
       " ('Kevin', 'male'),\n",
       " ('Lorenzo', 'male'),\n",
       " ('Gui', 'female'),\n",
       " ('Britt', 'female'),\n",
       " ('Deanna', 'female'),\n",
       " ('Deni', 'female'),\n",
       " ('Aube', 'male'),\n",
       " ('Marybeth', 'female'),\n",
       " ('Joseph', 'male'),\n",
       " ('Nanon', 'female'),\n",
       " ('Philippine', 'female'),\n",
       " ('Eve', 'female'),\n",
       " ('Michaelina', 'female'),\n",
       " ('Jo-Ann', 'female'),\n",
       " ('Darian', 'male'),\n",
       " ('Evangeline', 'female'),\n",
       " ('Gabriele', 'male'),\n",
       " ('Moina', 'female'),\n",
       " ('Bonita', 'female'),\n",
       " ('Inga', 'female'),\n",
       " ('Corliss', 'female'),\n",
       " ('Floria', 'female'),\n",
       " ('Romola', 'female'),\n",
       " ('Newton', 'male'),\n",
       " ('Mattie', 'female'),\n",
       " ('Pablo', 'male'),\n",
       " ('Urbanus', 'male'),\n",
       " ('Osbourn', 'male'),\n",
       " ('Trudey', 'female'),\n",
       " ('Brigitte', 'female'),\n",
       " ('Noni', 'female'),\n",
       " ('Garey', 'male'),\n",
       " ('Donielle', 'female'),\n",
       " ('Matti', 'female'),\n",
       " ('Giovanna', 'female'),\n",
       " ('Carry', 'female'),\n",
       " ('Richy', 'male'),\n",
       " ('Van', 'female'),\n",
       " ('Jackie', 'male'),\n",
       " ('Fiona', 'female'),\n",
       " ('Marlon', 'male'),\n",
       " ('Leoline', 'female'),\n",
       " ('Cecily', 'female'),\n",
       " ('Brena', 'female'),\n",
       " ('Vina', 'female'),\n",
       " ('Francesco', 'male'),\n",
       " ('Tadd', 'male'),\n",
       " ('Carolyne', 'female'),\n",
       " ('Huntlee', 'male'),\n",
       " ('Connie', 'female'),\n",
       " ('Rasla', 'female'),\n",
       " ('Wendy', 'female'),\n",
       " ('Roddie', 'male'),\n",
       " ('Martguerita', 'female'),\n",
       " ('Carmelle', 'female'),\n",
       " ('Mayer', 'male'),\n",
       " ('Page', 'male'),\n",
       " ('Moselle', 'female'),\n",
       " ('Sidonnie', 'female'),\n",
       " ('Ishmael', 'male'),\n",
       " ('Mandie', 'female'),\n",
       " ('Jillane', 'female'),\n",
       " ('Vlad', 'male'),\n",
       " ('Tyrus', 'male'),\n",
       " ('Joscelin', 'female'),\n",
       " ('Elton', 'male'),\n",
       " ('Muriel', 'female'),\n",
       " ('Kamilah', 'female'),\n",
       " ('Andros', 'male'),\n",
       " ('Leann', 'female'),\n",
       " ('Gregg', 'male'),\n",
       " ('Aindrea', 'female'),\n",
       " ('Isidore', 'male'),\n",
       " ('Terrence', 'male'),\n",
       " ('Terry', 'female'),\n",
       " ('Cody', 'male'),\n",
       " ('Ferdinand', 'male'),\n",
       " ('Elfrida', 'female'),\n",
       " ('Latia', 'female'),\n",
       " ('Savina', 'female'),\n",
       " ('Zacherie', 'male'),\n",
       " ('Corry', 'female'),\n",
       " ('Larine', 'female'),\n",
       " ('Rafaelia', 'female'),\n",
       " ('Saudra', 'female'),\n",
       " ('Bennie', 'male'),\n",
       " ('Cherise', 'female'),\n",
       " ('Luelle', 'female'),\n",
       " ('Jef', 'male'),\n",
       " ('Merlina', 'female'),\n",
       " ('Gwenny', 'female'),\n",
       " ('Lindsey', 'female'),\n",
       " ('Thayne', 'male'),\n",
       " ('Marten', 'male'),\n",
       " ('Theadora', 'female'),\n",
       " ('Tomiko', 'female'),\n",
       " ('Leelah', 'female'),\n",
       " ('Magdalen', 'female'),\n",
       " ('Jordanna', 'female'),\n",
       " ('Sherwynd', 'male'),\n",
       " ('Alexander', 'male'),\n",
       " ('Elyssa', 'female'),\n",
       " ('Josie', 'female'),\n",
       " ('Tully', 'male'),\n",
       " ('Rafaela', 'female'),\n",
       " ('Asia', 'female'),\n",
       " ('Glennis', 'female'),\n",
       " ('Quinn', 'male'),\n",
       " ('Serene', 'female'),\n",
       " ('Corie', 'female'),\n",
       " ('Jens', 'male'),\n",
       " ('Julietta', 'female'),\n",
       " ('Cass', 'male'),\n",
       " ('Marcelline', 'female'),\n",
       " ('Gisella', 'female'),\n",
       " ('Danna', 'female'),\n",
       " ('Cybelle', 'female'),\n",
       " ('Emelita', 'female'),\n",
       " ('Carlota', 'female'),\n",
       " ('Arlene', 'female'),\n",
       " ('Gracie', 'female'),\n",
       " ('Hans-Peter', 'male'),\n",
       " ('Haydon', 'male'),\n",
       " ('Kerry', 'male'),\n",
       " ('Clemens', 'male'),\n",
       " ('Simmonds', 'male'),\n",
       " ('Bess', 'female'),\n",
       " ('Cleo', 'female'),\n",
       " ('Crista', 'female'),\n",
       " ('Marney', 'female'),\n",
       " ('Ronny', 'male'),\n",
       " ('Izak', 'male'),\n",
       " ('Laurel', 'female'),\n",
       " ('Garvey', 'male'),\n",
       " ('Patsy', 'female'),\n",
       " ('Kristopher', 'male'),\n",
       " ('Bruce', 'male'),\n",
       " ('Nickolas', 'male'),\n",
       " ('Armand', 'male'),\n",
       " ('Bab', 'female'),\n",
       " ('Rosabel', 'female'),\n",
       " ('Jeff', 'male'),\n",
       " ('Grazia', 'female'),\n",
       " ('Deirdre', 'female'),\n",
       " ('Doris', 'female'),\n",
       " ('Douggie', 'male'),\n",
       " ('Ira', 'male'),\n",
       " ('Margaretha', 'female'),\n",
       " ('Ethelyn', 'female'),\n",
       " ('Erin', 'male'),\n",
       " ('Noella', 'female'),\n",
       " ('Kip', 'male'),\n",
       " ('Stanley', 'male'),\n",
       " ('Harmonia', 'female'),\n",
       " ('Perle', 'female'),\n",
       " ('Maura', 'female'),\n",
       " ('Eolande', 'female'),\n",
       " ('Steward', 'male'),\n",
       " ('Artie', 'male'),\n",
       " ('Krystyna', 'female'),\n",
       " ('Pincus', 'male'),\n",
       " ('Audy', 'female'),\n",
       " ('Luna', 'female'),\n",
       " ('Valerye', 'female'),\n",
       " ...]"
      ]
     },
     "execution_count": 8,
     "metadata": {},
     "output_type": "execute_result"
    }
   ],
   "source": [
    "names"
   ]
  },
  {
   "cell_type": "code",
   "execution_count": 9,
   "metadata": {
    "collapsed": true
   },
   "outputs": [],
   "source": [
    "featuresets = [(gender_features(n), g) for (n,g) in names]"
   ]
  },
  {
   "cell_type": "code",
   "execution_count": 10,
   "metadata": {
    "collapsed": true
   },
   "outputs": [],
   "source": [
    "train_set, test_set = featuresets[500:], featuresets[:500]"
   ]
  },
  {
   "cell_type": "code",
   "execution_count": 13,
   "metadata": {},
   "outputs": [],
   "source": [
    "classifier = nltk.NaiveBayesClassifier.train(train_set)"
   ]
  },
  {
   "cell_type": "code",
   "execution_count": 14,
   "metadata": {},
   "outputs": [
    {
     "data": {
      "text/plain": [
       "'male'"
      ]
     },
     "execution_count": 14,
     "metadata": {},
     "output_type": "execute_result"
    }
   ],
   "source": [
    "classifier.classify(gender_features('Neo'))"
   ]
  },
  {
   "cell_type": "code",
   "execution_count": 15,
   "metadata": {},
   "outputs": [
    {
     "data": {
      "text/plain": [
       "'female'"
      ]
     },
     "execution_count": 15,
     "metadata": {},
     "output_type": "execute_result"
    }
   ],
   "source": [
    "classifier.classify(gender_features('Trinity'))"
   ]
  },
  {
   "cell_type": "code",
   "execution_count": 17,
   "metadata": {},
   "outputs": [
    {
     "name": "stdout",
     "output_type": "stream",
     "text": [
      "0.77\n"
     ]
    }
   ],
   "source": [
    "print(nltk.classify.accuracy(classifier, test_set))"
   ]
  },
  {
   "cell_type": "code",
   "execution_count": 18,
   "metadata": {},
   "outputs": [
    {
     "name": "stdout",
     "output_type": "stream",
     "text": [
      "Most Informative Features\n",
      "             last_letter = 'a'            female : male   =     34.6 : 1.0\n",
      "             last_letter = 'k'              male : female =     32.4 : 1.0\n",
      "             last_letter = 'f'              male : female =     16.0 : 1.0\n",
      "             last_letter = 'v'              male : female =     11.2 : 1.0\n",
      "             last_letter = 'p'              male : female =     11.2 : 1.0\n"
     ]
    }
   ],
   "source": [
    "classifier.show_most_informative_features(5)"
   ]
  },
  {
   "cell_type": "code",
   "execution_count": 19,
   "metadata": {
    "collapsed": true
   },
   "outputs": [],
   "source": [
    "from nltk.classify import apply_features"
   ]
  },
  {
   "cell_type": "code",
   "execution_count": 20,
   "metadata": {
    "collapsed": true
   },
   "outputs": [],
   "source": [
    "train_set = apply_features(gender_features, names[500:])\n",
    "test_set = apply_features(gender_features, names[:500])"
   ]
  },
  {
   "cell_type": "code",
   "execution_count": 23,
   "metadata": {},
   "outputs": [],
   "source": [
    "#一个特征提取器，过拟合性别特征。这个特征提取器返回的特征集包括大量指 定的特征，从而导致对于相对较小的名字语料库过拟合。\n",
    "def gender_features2(name):\n",
    "    features = {}\n",
    "    features[\"firstletter\"] = name[0].lower()\n",
    "    features[\"lastletter\"] = name[-1].lower()\n",
    "    for letter in 'abcdefghijklmnopqrstuvwxyz':\n",
    "        features[\"count(%s)\" % letter] = name.lower().count(letter)\n",
    "        features[\"has(%s)\" % letter] = (letter in name.lower())\n",
    "    return features"
   ]
  },
  {
   "cell_type": "code",
   "execution_count": 24,
   "metadata": {},
   "outputs": [
    {
     "data": {
      "text/plain": [
       "{'count(a)': 0,\n",
       " 'count(b)': 0,\n",
       " 'count(c)': 0,\n",
       " 'count(d)': 0,\n",
       " 'count(e)': 0,\n",
       " 'count(f)': 0,\n",
       " 'count(g)': 0,\n",
       " 'count(h)': 1,\n",
       " 'count(i)': 0,\n",
       " 'count(j)': 1,\n",
       " 'count(k)': 0,\n",
       " 'count(l)': 0,\n",
       " 'count(m)': 0,\n",
       " 'count(n)': 1,\n",
       " 'count(o)': 1,\n",
       " 'count(p)': 0,\n",
       " 'count(q)': 0,\n",
       " 'count(r)': 0,\n",
       " 'count(s)': 0,\n",
       " 'count(t)': 0,\n",
       " 'count(u)': 0,\n",
       " 'count(v)': 0,\n",
       " 'count(w)': 0,\n",
       " 'count(x)': 0,\n",
       " 'count(y)': 0,\n",
       " 'count(z)': 0,\n",
       " 'firstletter': 'j',\n",
       " 'has(a)': False,\n",
       " 'has(b)': False,\n",
       " 'has(c)': False,\n",
       " 'has(d)': False,\n",
       " 'has(e)': False,\n",
       " 'has(f)': False,\n",
       " 'has(g)': False,\n",
       " 'has(h)': True,\n",
       " 'has(i)': False,\n",
       " 'has(j)': True,\n",
       " 'has(k)': False,\n",
       " 'has(l)': False,\n",
       " 'has(m)': False,\n",
       " 'has(n)': True,\n",
       " 'has(o)': True,\n",
       " 'has(p)': False,\n",
       " 'has(q)': False,\n",
       " 'has(r)': False,\n",
       " 'has(s)': False,\n",
       " 'has(t)': False,\n",
       " 'has(u)': False,\n",
       " 'has(v)': False,\n",
       " 'has(w)': False,\n",
       " 'has(x)': False,\n",
       " 'has(y)': False,\n",
       " 'has(z)': False,\n",
       " 'lastletter': 'n'}"
      ]
     },
     "execution_count": 24,
     "metadata": {},
     "output_type": "execute_result"
    }
   ],
   "source": [
    "gender_features2('John')"
   ]
  },
  {
   "cell_type": "code",
   "execution_count": 26,
   "metadata": {},
   "outputs": [],
   "source": [
    "#然而，你要用于一个给定的学习算法的特征的数目是有限的——如果你提供太多的特\n",
    "#征，那么该算法将高度依赖你的训练数据的特，性而一般化到新的例子的效果不会很好。\n",
    "#这 个问题被称为过拟合，当运作在小训练集上时尤其会有问题。\n",
    "#例如:如果我们使用例 6-1 中 所示的特征提取器训练朴素贝叶斯分类器，\n",
    "#    将会过拟合这个相对较小的训练集，造成这个系 统的精度比只考虑每个名字最后一个字母的分类器的精度低约 1%。"
   ]
  },
  {
   "cell_type": "code",
   "execution_count": 27,
   "metadata": {},
   "outputs": [
    {
     "name": "stdout",
     "output_type": "stream",
     "text": [
      "0.79\n"
     ]
    }
   ],
   "source": [
    "featuresets = [(gender_features2(n), g) for (n,g) in names]\n",
    "train_set, test_set = featuresets[500:], featuresets[:500]\n",
    "classifier = nltk.NaiveBayesClassifier.train(train_set)\n",
    "print (nltk.classify.accuracy(classifier, test_set))"
   ]
  },
  {
   "cell_type": "code",
   "execution_count": null,
   "metadata": {
    "collapsed": true
   },
   "outputs": [],
   "source": [
    "#一旦初始特征集被选定，完善特征集的一个非常有成效的方法是错误分析。\n",
    "#首先，我们 选择一个开发集，包 用于创建模型的语料数据。\n",
    "#然后将这种开发集分为训练集和开发测试 集。"
   ]
  },
  {
   "cell_type": "code",
   "execution_count": 28,
   "metadata": {
    "collapsed": true
   },
   "outputs": [],
   "source": [
    "train_names = names[1500:]\n",
    "devtest_names = names[500:1500]\n",
    "test_names = names[:500]"
   ]
  },
  {
   "cell_type": "code",
   "execution_count": 29,
   "metadata": {},
   "outputs": [
    {
     "name": "stdout",
     "output_type": "stream",
     "text": [
      "0.768\n"
     ]
    }
   ],
   "source": [
    "train_set = [(gender_features(n), g) for (n,g) in train_names]\n",
    "devtest_set = [(gender_features(n), g) for (n,g) in devtest_names]\n",
    "test_set = [(gender_features(n), g) for (n,g) in test_names]\n",
    "classifier = nltk.NaiveBayesClassifier.train(train_set)\n",
    "print (nltk.classify.accuracy(classifier, devtest_set))"
   ]
  },
  {
   "cell_type": "code",
   "execution_count": 34,
   "metadata": {},
   "outputs": [],
   "source": [
    "errors = []\n",
    "for (name, tag) in devtest_names:\n",
    "    guess = classifier.classify(gender_features(name))\n",
    "    if guess != tag:\n",
    "        errors.append((tag, guess, name))"
   ]
  },
  {
   "cell_type": "code",
   "execution_count": 39,
   "metadata": {},
   "outputs": [
    {
     "name": "stdout",
     "output_type": "stream",
     "text": [
      "correct=female   guess=male     name=Alison                        \n",
      "correct=female   guess=male     name=Alyson                        \n",
      "correct=female   guess=male     name=Amber                         \n",
      "correct=female   guess=male     name=Ann                           \n",
      "correct=female   guess=male     name=Ariel                         \n",
      "correct=female   guess=male     name=Arleen                        \n",
      "correct=female   guess=male     name=Astrid                        \n",
      "correct=female   guess=male     name=Avrit                         \n",
      "correct=female   guess=male     name=Ayn                           \n",
      "correct=female   guess=male     name=Bab                           \n",
      "correct=female   guess=male     name=Berget                        \n",
      "correct=female   guess=male     name=Bess                          \n",
      "correct=female   guess=male     name=Bliss                         \n",
      "correct=female   guess=male     name=Bren                          \n",
      "correct=female   guess=male     name=Bridget                       \n",
      "correct=female   guess=male     name=Bridgett                      \n",
      "correct=female   guess=male     name=Britt                         \n",
      "correct=female   guess=male     name=Brynn                         \n",
      "correct=female   guess=male     name=Caril                         \n",
      "correct=female   guess=male     name=Carlen                        \n",
      "correct=female   guess=male     name=Carmel                        \n",
      "correct=female   guess=male     name=Carrol                        \n",
      "correct=female   guess=male     name=Carroll                       \n",
      "correct=female   guess=male     name=Catherin                      \n",
      "correct=female   guess=male     name=Ceil                          \n",
      "correct=female   guess=male     name=Christan                      \n",
      "correct=female   guess=male     name=Chrystel                      \n",
      "correct=female   guess=male     name=Cinnamon                      \n",
      "correct=female   guess=male     name=Cleo                          \n",
      "correct=female   guess=male     name=Corliss                       \n",
      "correct=female   guess=male     name=Cristal                       \n",
      "correct=female   guess=male     name=Cybil                         \n",
      "correct=female   guess=male     name=Cybill                        \n",
      "correct=female   guess=male     name=Deb                           \n",
      "correct=female   guess=male     name=Deloris                       \n",
      "correct=female   guess=male     name=Doralyn                       \n",
      "correct=female   guess=male     name=Doris                         \n",
      "correct=female   guess=male     name=Easter                        \n",
      "correct=female   guess=male     name=Ethelyn                       \n",
      "correct=female   guess=male     name=Evaleen                       \n",
      "correct=female   guess=male     name=Eveleen                       \n",
      "correct=female   guess=male     name=Evelyn                        \n",
      "correct=female   guess=male     name=Gaynor                        \n",
      "correct=female   guess=male     name=Glennis                       \n",
      "correct=female   guess=male     name=Gwendolin                     \n",
      "correct=female   guess=male     name=Isador                        \n",
      "correct=female   guess=male     name=Jackquelin                    \n",
      "correct=female   guess=male     name=Jan                           \n",
      "correct=female   guess=male     name=Jaquelin                      \n",
      "correct=female   guess=male     name=Jean                          \n",
      "correct=female   guess=male     name=Jerrilyn                      \n",
      "correct=female   guess=male     name=Jess                          \n",
      "correct=female   guess=male     name=Jesselyn                      \n",
      "correct=female   guess=male     name=Jewell                        \n",
      "correct=female   guess=male     name=Jo-Ann                        \n",
      "correct=female   guess=male     name=Joann                         \n",
      "correct=female   guess=male     name=Jocelin                       \n",
      "correct=female   guess=male     name=Joell                         \n",
      "correct=female   guess=male     name=Joellen                       \n",
      "correct=female   guess=male     name=Joelynn                       \n",
      "correct=female   guess=male     name=Jojo                          \n",
      "correct=female   guess=male     name=Jolynn                        \n",
      "correct=female   guess=male     name=Joscelin                      \n",
      "correct=female   guess=male     name=Joycelin                      \n",
      "correct=female   guess=male     name=Karel                         \n",
      "correct=female   guess=male     name=Karilynn                      \n",
      "correct=female   guess=male     name=Karyn                         \n",
      "correct=female   guess=male     name=Katlin                        \n",
      "correct=female   guess=male     name=Kaylyn                        \n",
      "correct=female   guess=male     name=Kerrill                       \n",
      "correct=female   guess=male     name=Kim                           \n",
      "correct=female   guess=male     name=Kirstin                       \n",
      "correct=female   guess=male     name=Laurel                        \n",
      "correct=female   guess=male     name=Leann                         \n",
      "correct=female   guess=male     name=Lilyan                        \n",
      "correct=female   guess=male     name=Lin                           \n",
      "correct=female   guess=male     name=Madalyn                       \n",
      "correct=female   guess=male     name=Madelon                       \n",
      "correct=female   guess=male     name=Mag                           \n",
      "correct=female   guess=male     name=Magdalen                      \n",
      "correct=female   guess=male     name=Margret                       \n",
      "correct=female   guess=male     name=Marleen                       \n",
      "correct=female   guess=male     name=Meg                           \n",
      "correct=female   guess=male     name=Meggan                        \n",
      "correct=female   guess=male     name=Merl                          \n",
      "correct=female   guess=male     name=Michel                        \n",
      "correct=female   guess=male     name=Muriel                        \n",
      "correct=female   guess=male     name=Myriam                        \n",
      "correct=female   guess=male     name=Nanon                         \n",
      "correct=female   guess=male     name=Nicol                         \n",
      "correct=female   guess=male     name=Noel                          \n",
      "correct=female   guess=male     name=Rachel                        \n",
      "correct=female   guess=male     name=Raf                           \n",
      "correct=female   guess=male     name=Rahal                         \n",
      "correct=female   guess=male     name=Raquel                        \n",
      "correct=female   guess=male     name=Raychel                       \n",
      "correct=female   guess=male     name=Reiko                         \n",
      "correct=female   guess=male     name=Rhiamon                       \n",
      "correct=female   guess=male     name=Rhianon                       \n",
      "correct=female   guess=male     name=Robin                         \n",
      "correct=female   guess=male     name=Rosabel                       \n",
      "correct=female   guess=male     name=Rosario                       \n",
      "correct=female   guess=male     name=Sam                           \n",
      "correct=female   guess=male     name=Shannon                       \n",
      "correct=female   guess=male     name=Shanon                        \n",
      "correct=female   guess=male     name=Shir                          \n",
      "correct=female   guess=male     name=Sibel                         \n",
      "correct=female   guess=male     name=Sinead                        \n",
      "correct=female   guess=male     name=Sybyl                         \n",
      "correct=female   guess=male     name=Tiff                          \n",
      "correct=female   guess=male     name=Tomiko                        \n",
      "correct=female   guess=male     name=Van                           \n",
      "correct=female   guess=male     name=Velvet                        \n",
      "correct=female   guess=male     name=Viv                           \n",
      "correct=female   guess=male     name=Vivyan                        \n",
      "correct=male     guess=female   name=Addie                         \n",
      "correct=male     guess=female   name=Allie                         \n",
      "correct=male     guess=female   name=Amery                         \n",
      "correct=male     guess=female   name=Amory                         \n",
      "correct=male     guess=female   name=Arne                          \n",
      "correct=male     guess=female   name=Artie                         \n",
      "correct=male     guess=female   name=Aube                          \n",
      "correct=male     guess=female   name=Bailie                        \n",
      "correct=male     guess=female   name=Barde                         \n",
      "correct=male     guess=female   name=Barney                        \n",
      "correct=male     guess=female   name=Barnie                        \n",
      "correct=male     guess=female   name=Barny                         \n",
      "correct=male     guess=female   name=Barri                         \n",
      "correct=male     guess=female   name=Bay                           \n",
      "correct=male     guess=female   name=Benjie                        \n",
      "correct=male     guess=female   name=Benjy                         \n",
      "correct=male     guess=female   name=Bennie                        \n",
      "correct=male     guess=female   name=Berkie                        \n",
      "correct=male     guess=female   name=Bernie                        \n",
      "correct=male     guess=female   name=Binky                         \n",
      "correct=male     guess=female   name=Blaine                        \n",
      "correct=male     guess=female   name=Blake                         \n",
      "correct=male     guess=female   name=Boniface                      \n",
      "correct=male     guess=female   name=Broddie                       \n",
      "correct=male     guess=female   name=Brodie                        \n",
      "correct=male     guess=female   name=Bruce                         \n",
      "correct=male     guess=female   name=Bubba                         \n",
      "correct=male     guess=female   name=Carleigh                      \n",
      "correct=male     guess=female   name=Cobbie                        \n",
      "correct=male     guess=female   name=Cody                          \n",
      "correct=male     guess=female   name=Connie                        \n",
      "correct=male     guess=female   name=Corby                         \n",
      "correct=male     guess=female   name=Cortese                       \n",
      "correct=male     guess=female   name=Dabney                        \n",
      "correct=male     guess=female   name=Douggie                       \n",
      "correct=male     guess=female   name=Dougie                        \n",
      "correct=male     guess=female   name=Elisha                        \n",
      "correct=male     guess=female   name=Elmore                        \n",
      "correct=male     guess=female   name=Eustace                       \n",
      "correct=male     guess=female   name=Felipe                        \n",
      "correct=male     guess=female   name=Ferdy                         \n",
      "correct=male     guess=female   name=Gabriele                      \n",
      "correct=male     guess=female   name=Garey                         \n",
      "correct=male     guess=female   name=Garvey                        \n",
      "correct=male     guess=female   name=Goose                         \n",
      "correct=male     guess=female   name=Greggory                      \n",
      "correct=male     guess=female   name=Gustave                       \n",
      "correct=male     guess=female   name=Hadley                        \n",
      "correct=male     guess=female   name=Hewe                          \n",
      "correct=male     guess=female   name=Hilary                        \n",
      "correct=male     guess=female   name=Huntlee                       \n",
      "correct=male     guess=female   name=Ira                           \n",
      "correct=male     guess=female   name=Isidore                       \n",
      "correct=male     guess=female   name=Jackie                        \n",
      "correct=male     guess=female   name=Jermaine                      \n",
      "correct=male     guess=female   name=Jimmie                        \n",
      "correct=male     guess=female   name=Joe                           \n",
      "correct=male     guess=female   name=Jonah                         \n",
      "correct=male     guess=female   name=Joseph                        \n",
      "correct=male     guess=female   name=Judah                         \n",
      "correct=male     guess=female   name=Jude                          \n",
      "correct=male     guess=female   name=Kerry                         \n",
      "correct=male     guess=female   name=Laurence                      \n",
      "correct=male     guess=female   name=Locke                         \n",
      "correct=male     guess=female   name=Lorne                         \n",
      "correct=male     guess=female   name=Luigi                         \n",
      "correct=male     guess=female   name=Maddie                        \n",
      "correct=male     guess=female   name=Matty                         \n",
      "correct=male     guess=female   name=Maury                         \n",
      "correct=male     guess=female   name=Maxie                         \n",
      "correct=male     guess=female   name=Meredith                      \n",
      "correct=male     guess=female   name=Mike                          \n",
      "correct=male     guess=female   name=Moishe                        \n",
      "correct=male     guess=female   name=Morly                         \n",
      "correct=male     guess=female   name=Myke                          \n",
      "correct=male     guess=female   name=Neale                         \n",
      "correct=male     guess=female   name=Nickey                        \n",
      "correct=male     guess=female   name=Nickie                        \n",
      "correct=male     guess=female   name=Niki                          \n",
      "correct=male     guess=female   name=Ollie                         \n",
      "correct=male     guess=female   name=Page                          \n",
      "correct=male     guess=female   name=Paige                         \n",
      "correct=male     guess=female   name=Parry                         \n",
      "correct=male     guess=female   name=Pearce                        \n",
      "correct=male     guess=female   name=Pembroke                      \n",
      "correct=male     guess=female   name=Reese                         \n",
      "correct=male     guess=female   name=Reilly                        \n",
      "correct=male     guess=female   name=Richy                         \n",
      "correct=male     guess=female   name=Rickie                        \n",
      "correct=male     guess=female   name=Roddie                        \n",
      "correct=male     guess=female   name=Roice                         \n",
      "correct=male     guess=female   name=Ronny                         \n",
      "correct=male     guess=female   name=Sawyere                       \n",
      "correct=male     guess=female   name=Saxe                          \n",
      "correct=male     guess=female   name=See                           \n",
      "correct=male     guess=female   name=Skye                          \n",
      "correct=male     guess=female   name=Sonnie                        \n",
      "correct=male     guess=female   name=Stanley                       \n",
      "correct=male     guess=female   name=Tammy                         \n",
      "correct=male     guess=female   name=Terrence                      \n",
      "correct=male     guess=female   name=Thayne                        \n",
      "correct=male     guess=female   name=Theodore                      \n",
      "correct=male     guess=female   name=Thorny                        \n",
      "correct=male     guess=female   name=Tome                          \n",
      "correct=male     guess=female   name=Tonnie                        \n",
      "correct=male     guess=female   name=Tracy                         \n",
      "correct=male     guess=female   name=Tuckie                        \n",
      "correct=male     guess=female   name=Tully                         \n",
      "correct=male     guess=female   name=Vale                          \n",
      "correct=male     guess=female   name=Wadsworth                     \n",
      "correct=male     guess=female   name=Wallace                       \n",
      "correct=male     guess=female   name=Wallie                        \n",
      "correct=male     guess=female   name=Welsh                         \n",
      "correct=male     guess=female   name=Wolfy                         \n",
      "correct=male     guess=female   name=Yehudi                        \n",
      "correct=male     guess=female   name=Zacharie                      \n",
      "correct=male     guess=female   name=Zacherie                      \n"
     ]
    }
   ],
   "source": [
    "for (tag, guess, name) in sorted(errors):\n",
    "    print ('correct=%-8s guess=%-8s name=%-30s' % (tag, guess, name))"
   ]
  },
  {
   "cell_type": "code",
   "execution_count": null,
   "metadata": {
    "collapsed": true
   },
   "outputs": [],
   "source": [
    "#浏览这个错误列表，它明确指出一些多个字母的后缀可以指示名字性别。例如:yn 结\n",
    "#尾的名字显示以女性为主，尽管事实上，n 结尾的名字往往是男性;\n",
    "#以 ch 结尾的名字通常 是男性，尽管以 h 结尾的名字倾向于是女性。因此，调整我们的特征提取器包括两个字母后210缀的特征:"
   ]
  },
  {
   "cell_type": "code",
   "execution_count": 40,
   "metadata": {
    "collapsed": true
   },
   "outputs": [],
   "source": [
    "def gender_features(word):\n",
    "    return {'suffix1': word[-1:],'suffix2': word[-2:]}"
   ]
  },
  {
   "cell_type": "code",
   "execution_count": 41,
   "metadata": {},
   "outputs": [
    {
     "name": "stdout",
     "output_type": "stream",
     "text": [
      "0.766\n"
     ]
    }
   ],
   "source": [
    "train_set = [(gender_features(n), g) for (n,g) in train_names]\n",
    "devtest_set = [(gender_features(n), g) for (n,g) in devtest_names]\n",
    "classifier = nltk.NaiveBayesClassifier.train(train_set)\n",
    "print (nltk.classify.accuracy(classifier, devtest_set))"
   ]
  },
  {
   "cell_type": "markdown",
   "metadata": {},
   "source": [
    "# 句子分割"
   ]
  },
  {
   "cell_type": "code",
   "execution_count": 42,
   "metadata": {
    "collapsed": true
   },
   "outputs": [],
   "source": [
    "sents = nltk.corpus.treebank_raw.sents()\n",
    "tokens = []\n",
    "boundaries = set()\n",
    "offset = 0\n",
    "for sent in nltk.corpus.treebank_raw.sents():\n",
    "    tokens.extend(sent)\n",
    "    offset += len(sent)\n",
    "    boundaries.add(offset-1)"
   ]
  },
  {
   "cell_type": "code",
   "execution_count": 46,
   "metadata": {
    "collapsed": true
   },
   "outputs": [],
   "source": [
    "def punct_features(tokens, i):\n",
    "    return {'next-word-capitalized': tokens[i+1][0].isupper(),\n",
    "            'prevword': tokens[i-1].lower(),\n",
    "            'punct': tokens[i],\n",
    "            'prev-word-is-one-char': len(tokens[i-1]) == 1}"
   ]
  },
  {
   "cell_type": "code",
   "execution_count": 43,
   "metadata": {
    "collapsed": true
   },
   "outputs": [],
   "source": [
    "#基于这一特征提取器，我们可以通过选择所有的标点符号创建一个加标签的特征集的链表，然后标注它们是否是边界标识符:"
   ]
  },
  {
   "cell_type": "code",
   "execution_count": 47,
   "metadata": {},
   "outputs": [],
   "source": [
    "featuresets = [(punct_features(tokens, i), (i in boundaries))for i in range(1, len(tokens)-1)if tokens[i] in '.?!']"
   ]
  },
  {
   "cell_type": "code",
   "execution_count": 48,
   "metadata": {
    "collapsed": true
   },
   "outputs": [],
   "source": [
    "size = int(len(featuresets) * 0.1)"
   ]
  },
  {
   "cell_type": "code",
   "execution_count": 49,
   "metadata": {
    "collapsed": true
   },
   "outputs": [],
   "source": [
    "train_set, test_set = featuresets[size:], featuresets[:size]"
   ]
  },
  {
   "cell_type": "code",
   "execution_count": 50,
   "metadata": {
    "collapsed": true
   },
   "outputs": [],
   "source": [
    "classifier = nltk.NaiveBayesClassifier.train(train_set)"
   ]
  },
  {
   "cell_type": "code",
   "execution_count": 51,
   "metadata": {},
   "outputs": [
    {
     "data": {
      "text/plain": [
       "0.936026936026936"
      ]
     },
     "execution_count": 51,
     "metadata": {},
     "output_type": "execute_result"
    }
   ],
   "source": [
    "nltk.classify.accuracy(classifier, test_set)"
   ]
  },
  {
   "cell_type": "code",
   "execution_count": null,
   "metadata": {
    "collapsed": true
   },
   "outputs": [],
   "source": [
    "#使用这种分类器进行断句，我们只需检查每个标点符号，看它是否是作为一个边界标识符，在边界标识符处分割词链表。"
   ]
  },
  {
   "cell_type": "code",
   "execution_count": 52,
   "metadata": {
    "collapsed": true
   },
   "outputs": [],
   "source": [
    "def segment_sentences(words):\n",
    "    start = 0\n",
    "    sents = []\n",
    "    for i, word in words:\n",
    "        if word in '.?!' and classifier.classify(words, i) == True:\n",
    "            sents.append(words[start:i+1])\n",
    "            start = i+1\n",
    "        if start < len(words):\n",
    "            sents.append(words[start:])"
   ]
  },
  {
   "cell_type": "markdown",
   "metadata": {},
   "source": [
    "# 文檔分類"
   ]
  },
  {
   "cell_type": "code",
   "execution_count": 60,
   "metadata": {
    "collapsed": true
   },
   "outputs": [],
   "source": [
    "from nltk.corpus import movie_reviews\n",
    "documents = [(list(movie_reviews.words(fileid)), category)\n",
    "             for category in movie_reviews.categories()\n",
    "             for fileid in movie_reviews.fileids(category)]"
   ]
  },
  {
   "cell_type": "code",
   "execution_count": 61,
   "metadata": {
    "collapsed": true
   },
   "outputs": [],
   "source": [
    "random.shuffle(documents)"
   ]
  },
  {
   "cell_type": "code",
   "execution_count": 62,
   "metadata": {},
   "outputs": [
    {
     "ename": "TypeError",
     "evalue": "'dict_keys' object is not subscriptable",
     "output_type": "error",
     "traceback": [
      "\u001b[0;31m---------------------------------------------------------------------------\u001b[0m",
      "\u001b[0;31mTypeError\u001b[0m                                 Traceback (most recent call last)",
      "\u001b[0;32m<ipython-input-62-66cab4333f71>\u001b[0m in \u001b[0;36m<module>\u001b[0;34m()\u001b[0m\n\u001b[1;32m      1\u001b[0m \u001b[0mall_words\u001b[0m \u001b[0;34m=\u001b[0m \u001b[0mnltk\u001b[0m\u001b[0;34m.\u001b[0m\u001b[0mFreqDist\u001b[0m\u001b[0;34m(\u001b[0m\u001b[0mw\u001b[0m\u001b[0;34m.\u001b[0m\u001b[0mlower\u001b[0m\u001b[0;34m(\u001b[0m\u001b[0;34m)\u001b[0m \u001b[0;32mfor\u001b[0m \u001b[0mw\u001b[0m \u001b[0;32min\u001b[0m \u001b[0mmovie_reviews\u001b[0m\u001b[0;34m.\u001b[0m\u001b[0mwords\u001b[0m\u001b[0;34m(\u001b[0m\u001b[0;34m)\u001b[0m\u001b[0;34m)\u001b[0m\u001b[0;34m\u001b[0m\u001b[0m\n\u001b[0;32m----> 2\u001b[0;31m \u001b[0mword_features\u001b[0m \u001b[0;34m=\u001b[0m \u001b[0mall_words\u001b[0m\u001b[0;34m.\u001b[0m\u001b[0mkeys\u001b[0m\u001b[0;34m(\u001b[0m\u001b[0;34m)\u001b[0m\u001b[0;34m[\u001b[0m\u001b[0;34m:\u001b[0m\u001b[0;36m2000\u001b[0m\u001b[0;34m]\u001b[0m\u001b[0;34m\u001b[0m\u001b[0m\n\u001b[0m",
      "\u001b[0;31mTypeError\u001b[0m: 'dict_keys' object is not subscriptable"
     ]
    }
   ],
   "source": [
    "all_words = nltk.FreqDist(w.lower() for w in movie_reviews.words())\n",
    "word_features = all_words.keys()[:2000]"
   ]
  },
  {
   "cell_type": "code",
   "execution_count": null,
   "metadata": {
    "collapsed": true
   },
   "outputs": [],
   "source": [
    "def document_features(document):\n",
    "    document_words = set(document)\n",
    "    features = {}\n",
    "    for word in word_features:\n",
    "        features['contains(%s)' % word] = (word in document_words)\n",
    "    return features"
   ]
  },
  {
   "cell_type": "code",
   "execution_count": null,
   "metadata": {},
   "outputs": [],
   "source": [
    "print (document_features(movie_reviews.words('pos/cv957_8737.txt')))"
   ]
  },
  {
   "cell_type": "code",
   "execution_count": 63,
   "metadata": {},
   "outputs": [
    {
     "ename": "NameError",
     "evalue": "name 'document_features' is not defined",
     "output_type": "error",
     "traceback": [
      "\u001b[0;31m---------------------------------------------------------------------------\u001b[0m",
      "\u001b[0;31mNameError\u001b[0m                                 Traceback (most recent call last)",
      "\u001b[0;32m<ipython-input-63-3c31b675f595>\u001b[0m in \u001b[0;36m<module>\u001b[0;34m()\u001b[0m\n\u001b[0;32m----> 1\u001b[0;31m \u001b[0mfeaturesets\u001b[0m \u001b[0;34m=\u001b[0m \u001b[0;34m[\u001b[0m\u001b[0;34m(\u001b[0m\u001b[0mdocument_features\u001b[0m\u001b[0;34m(\u001b[0m\u001b[0md\u001b[0m\u001b[0;34m)\u001b[0m\u001b[0;34m,\u001b[0m \u001b[0mc\u001b[0m\u001b[0;34m)\u001b[0m \u001b[0;32mfor\u001b[0m \u001b[0;34m(\u001b[0m\u001b[0md\u001b[0m\u001b[0;34m,\u001b[0m\u001b[0mc\u001b[0m\u001b[0;34m)\u001b[0m \u001b[0;32min\u001b[0m \u001b[0mdocuments\u001b[0m\u001b[0;34m]\u001b[0m\u001b[0;34m\u001b[0m\u001b[0m\n\u001b[0m\u001b[1;32m      2\u001b[0m \u001b[0mtrain_set\u001b[0m\u001b[0;34m,\u001b[0m \u001b[0mtest_set\u001b[0m \u001b[0;34m=\u001b[0m \u001b[0mfeaturesets\u001b[0m\u001b[0;34m[\u001b[0m\u001b[0;36m100\u001b[0m\u001b[0;34m:\u001b[0m\u001b[0;34m]\u001b[0m\u001b[0;34m,\u001b[0m \u001b[0mfeaturesets\u001b[0m\u001b[0;34m[\u001b[0m\u001b[0;34m:\u001b[0m\u001b[0;36m100\u001b[0m\u001b[0;34m]\u001b[0m\u001b[0;34m\u001b[0m\u001b[0m\n\u001b[1;32m      3\u001b[0m \u001b[0mclassifier\u001b[0m \u001b[0;34m=\u001b[0m \u001b[0mnltk\u001b[0m\u001b[0;34m.\u001b[0m\u001b[0mNaiveBayesClassifier\u001b[0m\u001b[0;34m.\u001b[0m\u001b[0mtrain\u001b[0m\u001b[0;34m(\u001b[0m\u001b[0mtrain_set\u001b[0m\u001b[0;34m)\u001b[0m\u001b[0;34m\u001b[0m\u001b[0m\n\u001b[1;32m      4\u001b[0m \u001b[0mprint\u001b[0m \u001b[0;34m(\u001b[0m\u001b[0mnltk\u001b[0m\u001b[0;34m.\u001b[0m\u001b[0mclassify\u001b[0m\u001b[0;34m.\u001b[0m\u001b[0maccuracy\u001b[0m\u001b[0;34m(\u001b[0m\u001b[0mclassifier\u001b[0m\u001b[0;34m,\u001b[0m \u001b[0mtest_set\u001b[0m\u001b[0;34m)\u001b[0m\u001b[0;34m)\u001b[0m\u001b[0;34m\u001b[0m\u001b[0m\n",
      "\u001b[0;32m<ipython-input-63-3c31b675f595>\u001b[0m in \u001b[0;36m<listcomp>\u001b[0;34m(.0)\u001b[0m\n\u001b[0;32m----> 1\u001b[0;31m \u001b[0mfeaturesets\u001b[0m \u001b[0;34m=\u001b[0m \u001b[0;34m[\u001b[0m\u001b[0;34m(\u001b[0m\u001b[0mdocument_features\u001b[0m\u001b[0;34m(\u001b[0m\u001b[0md\u001b[0m\u001b[0;34m)\u001b[0m\u001b[0;34m,\u001b[0m \u001b[0mc\u001b[0m\u001b[0;34m)\u001b[0m \u001b[0;32mfor\u001b[0m \u001b[0;34m(\u001b[0m\u001b[0md\u001b[0m\u001b[0;34m,\u001b[0m\u001b[0mc\u001b[0m\u001b[0;34m)\u001b[0m \u001b[0;32min\u001b[0m \u001b[0mdocuments\u001b[0m\u001b[0;34m]\u001b[0m\u001b[0;34m\u001b[0m\u001b[0m\n\u001b[0m\u001b[1;32m      2\u001b[0m \u001b[0mtrain_set\u001b[0m\u001b[0;34m,\u001b[0m \u001b[0mtest_set\u001b[0m \u001b[0;34m=\u001b[0m \u001b[0mfeaturesets\u001b[0m\u001b[0;34m[\u001b[0m\u001b[0;36m100\u001b[0m\u001b[0;34m:\u001b[0m\u001b[0;34m]\u001b[0m\u001b[0;34m,\u001b[0m \u001b[0mfeaturesets\u001b[0m\u001b[0;34m[\u001b[0m\u001b[0;34m:\u001b[0m\u001b[0;36m100\u001b[0m\u001b[0;34m]\u001b[0m\u001b[0;34m\u001b[0m\u001b[0m\n\u001b[1;32m      3\u001b[0m \u001b[0mclassifier\u001b[0m \u001b[0;34m=\u001b[0m \u001b[0mnltk\u001b[0m\u001b[0;34m.\u001b[0m\u001b[0mNaiveBayesClassifier\u001b[0m\u001b[0;34m.\u001b[0m\u001b[0mtrain\u001b[0m\u001b[0;34m(\u001b[0m\u001b[0mtrain_set\u001b[0m\u001b[0;34m)\u001b[0m\u001b[0;34m\u001b[0m\u001b[0m\n\u001b[1;32m      4\u001b[0m \u001b[0mprint\u001b[0m \u001b[0;34m(\u001b[0m\u001b[0mnltk\u001b[0m\u001b[0;34m.\u001b[0m\u001b[0mclassify\u001b[0m\u001b[0;34m.\u001b[0m\u001b[0maccuracy\u001b[0m\u001b[0;34m(\u001b[0m\u001b[0mclassifier\u001b[0m\u001b[0;34m,\u001b[0m \u001b[0mtest_set\u001b[0m\u001b[0;34m)\u001b[0m\u001b[0;34m)\u001b[0m\u001b[0;34m\u001b[0m\u001b[0m\n",
      "\u001b[0;31mNameError\u001b[0m: name 'document_features' is not defined"
     ]
    }
   ],
   "source": [
    "featuresets = [(document_features(d), c) for (d,c) in documents]\n",
    "train_set, test_set = featuresets[100:], featuresets[:100]\n",
    "classifier = nltk.NaiveBayesClassifier.train(train_set)\n",
    "print (nltk.classify.accuracy(classifier, test_set))"
   ]
  },
  {
   "cell_type": "code",
   "execution_count": null,
   "metadata": {
    "collapsed": true
   },
   "outputs": [],
   "source": [
    "classifier.show_most_informative_features(5)"
   ]
  },
  {
   "cell_type": "code",
   "execution_count": null,
   "metadata": {
    "collapsed": true
   },
   "outputs": [],
   "source": [
    "from nltk.corpus import brown"
   ]
  },
  {
   "cell_type": "code",
   "execution_count": 64,
   "metadata": {},
   "outputs": [
    {
     "ename": "NameError",
     "evalue": "name 'brown' is not defined",
     "output_type": "error",
     "traceback": [
      "\u001b[0;31m---------------------------------------------------------------------------\u001b[0m",
      "\u001b[0;31mNameError\u001b[0m                                 Traceback (most recent call last)",
      "\u001b[0;32m<ipython-input-64-fffca752a281>\u001b[0m in \u001b[0;36m<module>\u001b[0;34m()\u001b[0m\n\u001b[1;32m      1\u001b[0m \u001b[0msuffix_fdist\u001b[0m \u001b[0;34m=\u001b[0m \u001b[0mnltk\u001b[0m\u001b[0;34m.\u001b[0m\u001b[0mFreqDist\u001b[0m\u001b[0;34m(\u001b[0m\u001b[0;34m)\u001b[0m\u001b[0;34m\u001b[0m\u001b[0m\n\u001b[0;32m----> 2\u001b[0;31m \u001b[0;32mfor\u001b[0m \u001b[0mword\u001b[0m \u001b[0;32min\u001b[0m \u001b[0mbrown\u001b[0m\u001b[0;34m.\u001b[0m\u001b[0mwords\u001b[0m\u001b[0;34m(\u001b[0m\u001b[0;34m)\u001b[0m\u001b[0;34m:\u001b[0m\u001b[0;34m\u001b[0m\u001b[0m\n\u001b[0m\u001b[1;32m      3\u001b[0m     \u001b[0mword\u001b[0m \u001b[0;34m=\u001b[0m \u001b[0mword\u001b[0m\u001b[0;34m.\u001b[0m\u001b[0mlower\u001b[0m\u001b[0;34m(\u001b[0m\u001b[0;34m)\u001b[0m\u001b[0;34m\u001b[0m\u001b[0m\n",
      "\u001b[0;31mNameError\u001b[0m: name 'brown' is not defined"
     ]
    }
   ],
   "source": [
    "suffix_fdist = nltk.FreqDist()\n",
    "for word in brown.words():\n",
    "    word = word.lower()\n",
    "    "
   ]
  },
  {
   "cell_type": "code",
   "execution_count": null,
   "metadata": {
    "collapsed": true
   },
   "outputs": [],
   "source": []
  },
  {
   "cell_type": "code",
   "execution_count": null,
   "metadata": {
    "collapsed": true
   },
   "outputs": [],
   "source": []
  },
  {
   "cell_type": "code",
   "execution_count": null,
   "metadata": {
    "collapsed": true
   },
   "outputs": [],
   "source": []
  },
  {
   "cell_type": "code",
   "execution_count": null,
   "metadata": {
    "collapsed": true
   },
   "outputs": [],
   "source": []
  },
  {
   "cell_type": "code",
   "execution_count": null,
   "metadata": {
    "collapsed": true
   },
   "outputs": [],
   "source": []
  },
  {
   "cell_type": "code",
   "execution_count": null,
   "metadata": {
    "collapsed": true
   },
   "outputs": [],
   "source": []
  },
  {
   "cell_type": "code",
   "execution_count": null,
   "metadata": {
    "collapsed": true
   },
   "outputs": [],
   "source": []
  },
  {
   "cell_type": "code",
   "execution_count": null,
   "metadata": {
    "collapsed": true
   },
   "outputs": [],
   "source": []
  },
  {
   "cell_type": "code",
   "execution_count": null,
   "metadata": {
    "collapsed": true
   },
   "outputs": [],
   "source": []
  },
  {
   "cell_type": "code",
   "execution_count": null,
   "metadata": {
    "collapsed": true
   },
   "outputs": [],
   "source": []
  },
  {
   "cell_type": "code",
   "execution_count": null,
   "metadata": {
    "collapsed": true
   },
   "outputs": [],
   "source": []
  },
  {
   "cell_type": "markdown",
   "metadata": {},
   "source": [
    "# 序列分類"
   ]
  },
  {
   "cell_type": "code",
   "execution_count": 54,
   "metadata": {
    "collapsed": true
   },
   "outputs": [],
   "source": [
    "def pos_features(sentence, i):\n",
    "    features = {\"suffix(1)\": sentence[i][-1:],\n",
    "                \"suffix(2)\": sentence[i][-2:],\n",
    "                \"suffix(3)\": sentence[i][-3:]}\n",
    "    if i == 0:\n",
    "        features[\"prev-word\"] = \"<START>\"\n",
    "    else:\n",
    "        features[\"prev-word\"] = sentence[i-1]\n",
    "    return features"
   ]
  },
  {
   "cell_type": "code",
   "execution_count": 55,
   "metadata": {},
   "outputs": [
    {
     "ename": "NameError",
     "evalue": "name 'brown' is not defined",
     "output_type": "error",
     "traceback": [
      "\u001b[0;31m---------------------------------------------------------------------------\u001b[0m",
      "\u001b[0;31mNameError\u001b[0m                                 Traceback (most recent call last)",
      "\u001b[0;32m<ipython-input-55-1d9bdf80eaf7>\u001b[0m in \u001b[0;36m<module>\u001b[0;34m()\u001b[0m\n\u001b[0;32m----> 1\u001b[0;31m \u001b[0mpos_features\u001b[0m\u001b[0;34m(\u001b[0m\u001b[0mbrown\u001b[0m\u001b[0;34m.\u001b[0m\u001b[0msents\u001b[0m\u001b[0;34m(\u001b[0m\u001b[0;34m)\u001b[0m\u001b[0;34m[\u001b[0m\u001b[0;36m0\u001b[0m\u001b[0;34m]\u001b[0m\u001b[0;34m,\u001b[0m \u001b[0;36m8\u001b[0m\u001b[0;34m)\u001b[0m\u001b[0;34m\u001b[0m\u001b[0m\n\u001b[0m",
      "\u001b[0;31mNameError\u001b[0m: name 'brown' is not defined"
     ]
    }
   ],
   "source": [
    "pos_features(brown.sents()[0], 8)"
   ]
  },
  {
   "cell_type": "code",
   "execution_count": null,
   "metadata": {
    "collapsed": true
   },
   "outputs": [],
   "source": []
  },
  {
   "cell_type": "code",
   "execution_count": null,
   "metadata": {
    "collapsed": true
   },
   "outputs": [],
   "source": []
  },
  {
   "cell_type": "code",
   "execution_count": null,
   "metadata": {
    "collapsed": true
   },
   "outputs": [],
   "source": []
  },
  {
   "cell_type": "code",
   "execution_count": null,
   "metadata": {
    "collapsed": true
   },
   "outputs": [],
   "source": []
  }
 ],
 "metadata": {
  "kernelspec": {
   "display_name": "Python 3",
   "language": "python",
   "name": "python3"
  },
  "language_info": {
   "codemirror_mode": {
    "name": "ipython",
    "version": 3
   },
   "file_extension": ".py",
   "mimetype": "text/x-python",
   "name": "python",
   "nbconvert_exporter": "python",
   "pygments_lexer": "ipython3",
   "version": "3.6.3"
  }
 },
 "nbformat": 4,
 "nbformat_minor": 2
}
